{
 "cells": [
  {
   "cell_type": "markdown",
   "metadata": {},
   "source": [
    "# WeatherPy\n",
    "\n",
    "---\n",
    "\n",
    "## Starter Code to Generate Random Geographic Coordinates and a List of Cities"
   ]
  },
  {
   "cell_type": "code",
   "execution_count": 29,
   "metadata": {
    "scrolled": true
   },
   "outputs": [],
   "source": [
    "# Dependencies and Setup\n",
    "import matplotlib.pyplot as plt\n",
    "import pandas as pd\n",
    "import numpy as np\n",
    "import requests\n",
    "import time\n",
    "import scipy.stats as st\n",
    "from scipy.stats import linregress\n",
    "\n",
    "# Impor the OpenWeatherMap API key\n",
    "from api_keys import weather_api_key\n",
    "\n",
    "# Import citipy to determine the cities based on latitude and longitude\n",
    "from citipy import citipy"
   ]
  },
  {
   "cell_type": "markdown",
   "metadata": {},
   "source": [
    "### Generate the Cities List by Using the `citipy` Library"
   ]
  },
  {
   "cell_type": "code",
   "execution_count": 2,
   "metadata": {},
   "outputs": [
    {
     "name": "stdout",
     "output_type": "stream",
     "text": [
      "Number of cities in the list: 44\n"
     ]
    }
   ],
   "source": [
    "# Empty list for holding the latitude and longitude combinations\n",
    "lat_lngs = []\n",
    "\n",
    "# Empty list for holding the cities names\n",
    "cities = []\n",
    "\n",
    "# Range of latitudes and longitudes\n",
    "lat_range = (-90, 90)\n",
    "lng_range = (-180, 180)\n",
    "\n",
    "# Create a set of random lat and lng combinations\n",
    "#lats = np.random.uniform(lat_range[0], lat_range[1], size=1500)\n",
    "#lngs = np.random.uniform(lng_range[0], lng_range[1], size=1500)\n",
    "lats = np.random.uniform(lat_range[0], lat_range[1], size=50)\n",
    "lngs = np.random.uniform(lng_range[0], lng_range[1], size=50)\n",
    "lat_lngs = zip(lats, lngs)\n",
    "\n",
    "# Identify nearest city for each lat, lng combination\n",
    "for lat_lng in lat_lngs:\n",
    "    city = citipy.nearest_city(lat_lng[0], lat_lng[1]).city_name\n",
    "    \n",
    "    # If the city is unique, then add it to a our cities list\n",
    "    if city not in cities:\n",
    "        cities.append(city)\n",
    "\n",
    "# Print the city count to confirm sufficient count\n",
    "print(f\"Number of cities in the list: {len(cities)}\")"
   ]
  },
  {
   "cell_type": "markdown",
   "metadata": {},
   "source": [
    "---"
   ]
  },
  {
   "cell_type": "markdown",
   "metadata": {},
   "source": [
    "## Requirement 1: Create Plots to Showcase the Relationship Between Weather Variables and Latitude\n",
    "\n",
    "### Use the OpenWeatherMap API to retrieve weather data from the cities list generated in the started code"
   ]
  },
  {
   "cell_type": "code",
   "execution_count": 3,
   "metadata": {},
   "outputs": [
    {
     "name": "stdout",
     "output_type": "stream",
     "text": [
      "Beginning Data Retrieval     \n",
      "-----------------------------\n",
      "Processing Record 1 of Set 1 | ati\n",
      "Processing Record 2 of Set 1 | east london\n",
      "Processing Record 3 of Set 1 | yagodnoye\n",
      "Processing Record 4 of Set 1 | carnarvon\n",
      "Processing Record 5 of Set 1 | gra liyia\n",
      "Processing Record 6 of Set 1 | kapaa\n",
      "Processing Record 7 of Set 1 | nikolskoye\n",
      "Processing Record 8 of Set 1 | nesna\n",
      "Processing Record 9 of Set 1 | likhoy\n",
      "Processing Record 10 of Set 1 | butaritari\n",
      "Processing Record 11 of Set 1 | rocha\n",
      "Processing Record 12 of Set 1 | bluff\n",
      "Processing Record 13 of Set 1 | krasnoselkup\n",
      "Processing Record 14 of Set 1 | salalah\n",
      "Processing Record 15 of Set 1 | slobidka\n",
      "Processing Record 16 of Set 1 | puerto ayora\n",
      "Processing Record 17 of Set 1 | bintulu\n",
      "Processing Record 18 of Set 1 | moctezuma\n",
      "Processing Record 19 of Set 1 | mar del plata\n",
      "Processing Record 20 of Set 1 | san carlos\n",
      "Processing Record 21 of Set 1 | asau\n",
      "Processing Record 22 of Set 1 | ushtobe\n",
      "Processing Record 23 of Set 1 | silifke\n",
      "Processing Record 24 of Set 1 | ushuaia\n",
      "Processing Record 25 of Set 1 | jamestown\n",
      "Processing Record 26 of Set 1 | mataura\n",
      "Processing Record 27 of Set 1 | kaitangata\n",
      "Processing Record 28 of Set 1 | cape town\n",
      "Processing Record 29 of Set 1 | saldanha\n",
      "Processing Record 30 of Set 1 | tiksi\n",
      "Processing Record 31 of Set 1 | lagoa\n",
      "Processing Record 32 of Set 1 | port hedland\n",
      "Processing Record 33 of Set 1 | ahipara\n",
      "Processing Record 34 of Set 1 | two rivers\n",
      "Processing Record 35 of Set 1 | severo-kurilsk\n",
      "Processing Record 36 of Set 1 | sentyabrskiy\n",
      "City not found. Skipping...\n",
      "Processing Record 37 of Set 1 | chanal\n",
      "Processing Record 38 of Set 1 | georgetown\n",
      "Processing Record 39 of Set 1 | atuona\n",
      "Processing Record 40 of Set 1 | rungata\n",
      "City not found. Skipping...\n",
      "Processing Record 41 of Set 1 | charters towers\n",
      "Processing Record 42 of Set 1 | acapulco\n",
      "Processing Record 43 of Set 1 | rikitea\n",
      "Processing Record 44 of Set 1 | busselton\n",
      "-----------------------------\n",
      "Data Retrieval Complete      \n",
      "-----------------------------\n"
     ]
    }
   ],
   "source": [
    "# Set the API base URL\n",
    "url = \"http://api.openweathermap.org/data/2.5/weather?\"\n",
    "\n",
    "# Define an empty list to fetch the weather data for each city\n",
    "city_data = []\n",
    "# Define variables\n",
    "units = 'imperial'\n",
    "\n",
    "# Print to logger\n",
    "print(\"Beginning Data Retrieval     \")\n",
    "print(\"-----------------------------\")\n",
    "\n",
    "# Create counters\n",
    "record_count = 1\n",
    "set_count = 1\n",
    "\n",
    "# Loop through all the cities in our list to fetch weather data\n",
    "for i, city in enumerate(cities):\n",
    "        \n",
    "    # Group cities in sets of 50 for logging purposes\n",
    "    if (i % 50 == 0 and i >= 50):\n",
    "        set_count += 1\n",
    "        record_count = 0\n",
    "\n",
    "    # Create endpoint URL with each city\n",
    "    city_url = url + \"&q=\" + city + \"&appid=\" +  weather_api_key + \"&units=\" + units\n",
    "    \n",
    "    # Log the url, record, and set numbers\n",
    "    print(\"Processing Record %s of Set %s | %s\" % (record_count, set_count, city))\n",
    "\n",
    "    # Add 1 to the record count\n",
    "    record_count += 1\n",
    "\n",
    "    # Run an API request for each of the cities\n",
    "    try:\n",
    "        # Parse the JSON and retrieve data\n",
    "        city_weather = requests.get(city_url).json()\n",
    "        \n",
    "\n",
    "        # Parse out latitude, longitude, max temp, humidity, cloudiness, wind speed, country, and date\n",
    "        city_lat = city_weather['coord']['lat']\n",
    "        city_lng = city_weather['coord']['lon']\n",
    "        city_max_temp = city_weather['main']['temp_max']\n",
    "        city_humidity = city_weather['main']['humidity']\n",
    "        city_clouds = city_weather['clouds']['all']\n",
    "        city_wind = city_weather['wind']['speed']\n",
    "        city_country = city_weather['sys']['country']\n",
    "        city_date = city_weather['dt']\n",
    "        \n",
    "        # Call function to recalculate maximum temperature to farenheight\n",
    "       # convert_temp(city_max_temp)\n",
    "       # city_max_temp = int(max_tempF)\n",
    "\n",
    "        # Append the City information into city_data list\n",
    "        city_data.append({\"City\": city, \n",
    "                          \"Lat\": city_lat, \n",
    "                          \"Lng\": city_lng, \n",
    "                          \"Max Temp\": city_max_temp,\n",
    "                          \"Humidity\": city_humidity,\n",
    "                          \"Cloudiness\": city_clouds,\n",
    "                          \"Wind Speed\": city_wind,\n",
    "                          \"Country\": city_country,\n",
    "                          \"Date\": city_date})\n",
    "\n",
    "    # If an error is experienced, skip the city\n",
    "    except:\n",
    "        print(\"City not found. Skipping...\")\n",
    "        pass\n",
    "              \n",
    "# Indicate that Data Loading is complete \n",
    "print(\"-----------------------------\")\n",
    "print(\"Data Retrieval Complete      \")\n",
    "print(\"-----------------------------\")"
   ]
  },
  {
   "cell_type": "code",
   "execution_count": 4,
   "metadata": {},
   "outputs": [
    {
     "data": {
      "text/plain": [
       "dict_items([('coord', {'lon': 115.3333, 'lat': -33.65}), ('weather', [{'id': 800, 'main': 'Clear', 'description': 'clear sky', 'icon': '01d'}]), ('base', 'stations'), ('main', {'temp': 81.48, 'feels_like': 81.36, 'temp_min': 81.48, 'temp_max': 81.48, 'pressure': 1007, 'humidity': 43, 'sea_level': 1007, 'grnd_level': 1006}), ('visibility', 10000), ('wind', {'speed': 17.65, 'deg': 235, 'gust': 18.66}), ('clouds', {'all': 0}), ('dt', 1675662706), ('sys', {'country': 'AU', 'sunrise': 1675633501, 'sunset': 1675682423}), ('timezone', 28800), ('id', 2075265), ('name', 'Busselton'), ('cod', 200)])"
      ]
     },
     "execution_count": 4,
     "metadata": {},
     "output_type": "execute_result"
    }
   ],
   "source": [
    "# confirm the request results\n",
    "city_weather.items()"
   ]
  },
  {
   "cell_type": "code",
   "execution_count": 5,
   "metadata": {},
   "outputs": [
    {
     "data": {
      "text/plain": [
       "City          42\n",
       "Lat           42\n",
       "Lng           42\n",
       "Max Temp      42\n",
       "Humidity      42\n",
       "Cloudiness    42\n",
       "Wind Speed    42\n",
       "Country       42\n",
       "Date          42\n",
       "dtype: int64"
      ]
     },
     "execution_count": 5,
     "metadata": {},
     "output_type": "execute_result"
    }
   ],
   "source": [
    "# Convert the cities weather data into a Pandas DataFrame\n",
    "city_data_df = pd.DataFrame(city_data)\n",
    "# Show Record Count\n",
    "city_data_df.count()"
   ]
  },
  {
   "cell_type": "code",
   "execution_count": 6,
   "metadata": {},
   "outputs": [
    {
     "data": {
      "text/html": [
       "<div>\n",
       "<style scoped>\n",
       "    .dataframe tbody tr th:only-of-type {\n",
       "        vertical-align: middle;\n",
       "    }\n",
       "\n",
       "    .dataframe tbody tr th {\n",
       "        vertical-align: top;\n",
       "    }\n",
       "\n",
       "    .dataframe thead th {\n",
       "        text-align: right;\n",
       "    }\n",
       "</style>\n",
       "<table border=\"1\" class=\"dataframe\">\n",
       "  <thead>\n",
       "    <tr style=\"text-align: right;\">\n",
       "      <th></th>\n",
       "      <th>City</th>\n",
       "      <th>Lat</th>\n",
       "      <th>Lng</th>\n",
       "      <th>Max Temp</th>\n",
       "      <th>Humidity</th>\n",
       "      <th>Cloudiness</th>\n",
       "      <th>Wind Speed</th>\n",
       "      <th>Country</th>\n",
       "      <th>Date</th>\n",
       "    </tr>\n",
       "  </thead>\n",
       "  <tbody>\n",
       "    <tr>\n",
       "      <th>0</th>\n",
       "      <td>ati</td>\n",
       "      <td>13.2154</td>\n",
       "      <td>18.3353</td>\n",
       "      <td>70.90</td>\n",
       "      <td>17</td>\n",
       "      <td>100</td>\n",
       "      <td>9.37</td>\n",
       "      <td>TD</td>\n",
       "      <td>1675662693</td>\n",
       "    </tr>\n",
       "    <tr>\n",
       "      <th>1</th>\n",
       "      <td>east london</td>\n",
       "      <td>-33.0153</td>\n",
       "      <td>27.9116</td>\n",
       "      <td>77.94</td>\n",
       "      <td>78</td>\n",
       "      <td>40</td>\n",
       "      <td>10.36</td>\n",
       "      <td>ZA</td>\n",
       "      <td>1675662693</td>\n",
       "    </tr>\n",
       "    <tr>\n",
       "      <th>2</th>\n",
       "      <td>yagodnoye</td>\n",
       "      <td>62.5500</td>\n",
       "      <td>149.6667</td>\n",
       "      <td>-25.78</td>\n",
       "      <td>100</td>\n",
       "      <td>100</td>\n",
       "      <td>2.71</td>\n",
       "      <td>RU</td>\n",
       "      <td>1675662694</td>\n",
       "    </tr>\n",
       "    <tr>\n",
       "      <th>3</th>\n",
       "      <td>carnarvon</td>\n",
       "      <td>-24.8667</td>\n",
       "      <td>113.6333</td>\n",
       "      <td>83.71</td>\n",
       "      <td>59</td>\n",
       "      <td>0</td>\n",
       "      <td>19.17</td>\n",
       "      <td>AU</td>\n",
       "      <td>1675662694</td>\n",
       "    </tr>\n",
       "    <tr>\n",
       "      <th>4</th>\n",
       "      <td>gra liyia</td>\n",
       "      <td>35.0167</td>\n",
       "      <td>25.6833</td>\n",
       "      <td>44.13</td>\n",
       "      <td>82</td>\n",
       "      <td>26</td>\n",
       "      <td>20.00</td>\n",
       "      <td>GR</td>\n",
       "      <td>1675662694</td>\n",
       "    </tr>\n",
       "  </tbody>\n",
       "</table>\n",
       "</div>"
      ],
      "text/plain": [
       "          City      Lat       Lng  Max Temp  Humidity  Cloudiness  Wind Speed  \\\n",
       "0          ati  13.2154   18.3353     70.90        17         100        9.37   \n",
       "1  east london -33.0153   27.9116     77.94        78          40       10.36   \n",
       "2    yagodnoye  62.5500  149.6667    -25.78       100         100        2.71   \n",
       "3    carnarvon -24.8667  113.6333     83.71        59           0       19.17   \n",
       "4    gra liyia  35.0167   25.6833     44.13        82          26       20.00   \n",
       "\n",
       "  Country        Date  \n",
       "0      TD  1675662693  \n",
       "1      ZA  1675662693  \n",
       "2      RU  1675662694  \n",
       "3      AU  1675662694  \n",
       "4      GR  1675662694  "
      ]
     },
     "execution_count": 6,
     "metadata": {},
     "output_type": "execute_result"
    }
   ],
   "source": [
    "# Display sample data\n",
    "city_data_df.head()"
   ]
  },
  {
   "cell_type": "code",
   "execution_count": 7,
   "metadata": {},
   "outputs": [],
   "source": [
    "# Export the City_Data into a csv\n",
    "city_data_df.to_csv(\"output_data/cities.csv\", index_label=\"City_ID\")"
   ]
  },
  {
   "cell_type": "code",
   "execution_count": 8,
   "metadata": {},
   "outputs": [
    {
     "data": {
      "text/html": [
       "<div>\n",
       "<style scoped>\n",
       "    .dataframe tbody tr th:only-of-type {\n",
       "        vertical-align: middle;\n",
       "    }\n",
       "\n",
       "    .dataframe tbody tr th {\n",
       "        vertical-align: top;\n",
       "    }\n",
       "\n",
       "    .dataframe thead th {\n",
       "        text-align: right;\n",
       "    }\n",
       "</style>\n",
       "<table border=\"1\" class=\"dataframe\">\n",
       "  <thead>\n",
       "    <tr style=\"text-align: right;\">\n",
       "      <th></th>\n",
       "      <th>City</th>\n",
       "      <th>Lat</th>\n",
       "      <th>Lng</th>\n",
       "      <th>Max Temp</th>\n",
       "      <th>Humidity</th>\n",
       "      <th>Cloudiness</th>\n",
       "      <th>Wind Speed</th>\n",
       "      <th>Country</th>\n",
       "      <th>Date</th>\n",
       "    </tr>\n",
       "    <tr>\n",
       "      <th>City_ID</th>\n",
       "      <th></th>\n",
       "      <th></th>\n",
       "      <th></th>\n",
       "      <th></th>\n",
       "      <th></th>\n",
       "      <th></th>\n",
       "      <th></th>\n",
       "      <th></th>\n",
       "      <th></th>\n",
       "    </tr>\n",
       "  </thead>\n",
       "  <tbody>\n",
       "    <tr>\n",
       "      <th>0</th>\n",
       "      <td>ati</td>\n",
       "      <td>13.2154</td>\n",
       "      <td>18.3353</td>\n",
       "      <td>70.90</td>\n",
       "      <td>17</td>\n",
       "      <td>100</td>\n",
       "      <td>9.37</td>\n",
       "      <td>TD</td>\n",
       "      <td>1675662693</td>\n",
       "    </tr>\n",
       "    <tr>\n",
       "      <th>1</th>\n",
       "      <td>east london</td>\n",
       "      <td>-33.0153</td>\n",
       "      <td>27.9116</td>\n",
       "      <td>77.94</td>\n",
       "      <td>78</td>\n",
       "      <td>40</td>\n",
       "      <td>10.36</td>\n",
       "      <td>ZA</td>\n",
       "      <td>1675662693</td>\n",
       "    </tr>\n",
       "    <tr>\n",
       "      <th>2</th>\n",
       "      <td>yagodnoye</td>\n",
       "      <td>62.5500</td>\n",
       "      <td>149.6667</td>\n",
       "      <td>-25.78</td>\n",
       "      <td>100</td>\n",
       "      <td>100</td>\n",
       "      <td>2.71</td>\n",
       "      <td>RU</td>\n",
       "      <td>1675662694</td>\n",
       "    </tr>\n",
       "    <tr>\n",
       "      <th>3</th>\n",
       "      <td>carnarvon</td>\n",
       "      <td>-24.8667</td>\n",
       "      <td>113.6333</td>\n",
       "      <td>83.71</td>\n",
       "      <td>59</td>\n",
       "      <td>0</td>\n",
       "      <td>19.17</td>\n",
       "      <td>AU</td>\n",
       "      <td>1675662694</td>\n",
       "    </tr>\n",
       "    <tr>\n",
       "      <th>4</th>\n",
       "      <td>gra liyia</td>\n",
       "      <td>35.0167</td>\n",
       "      <td>25.6833</td>\n",
       "      <td>44.13</td>\n",
       "      <td>82</td>\n",
       "      <td>26</td>\n",
       "      <td>20.00</td>\n",
       "      <td>GR</td>\n",
       "      <td>1675662694</td>\n",
       "    </tr>\n",
       "  </tbody>\n",
       "</table>\n",
       "</div>"
      ],
      "text/plain": [
       "                City      Lat       Lng  Max Temp  Humidity  Cloudiness  \\\n",
       "City_ID                                                                   \n",
       "0                ati  13.2154   18.3353     70.90        17         100   \n",
       "1        east london -33.0153   27.9116     77.94        78          40   \n",
       "2          yagodnoye  62.5500  149.6667    -25.78       100         100   \n",
       "3          carnarvon -24.8667  113.6333     83.71        59           0   \n",
       "4          gra liyia  35.0167   25.6833     44.13        82          26   \n",
       "\n",
       "         Wind Speed Country        Date  \n",
       "City_ID                                  \n",
       "0              9.37      TD  1675662693  \n",
       "1             10.36      ZA  1675662693  \n",
       "2              2.71      RU  1675662694  \n",
       "3             19.17      AU  1675662694  \n",
       "4             20.00      GR  1675662694  "
      ]
     },
     "execution_count": 8,
     "metadata": {},
     "output_type": "execute_result"
    }
   ],
   "source": [
    "# Read saved data\n",
    "city_data_df = pd.read_csv(\"output_data/cities.csv\", index_col=\"City_ID\")\n",
    "\n",
    "# Display sample data\n",
    "#city_data_df.info()\n",
    "city_data_df.head()"
   ]
  },
  {
   "cell_type": "markdown",
   "metadata": {},
   "source": [
    "### Create the Scatter Plots Requested\n",
    "\n",
    "#### Latitude Vs. Temperature"
   ]
  },
  {
   "cell_type": "code",
   "execution_count": 9,
   "metadata": {
    "tags": []
   },
   "outputs": [
    {
     "data": {
      "image/png": "[encoded data removed]",
      "text/plain": [
       "<Figure size 576x432 with 1 Axes>"
      ]
     },
     "metadata": {
      "needs_background": "light"
     },
     "output_type": "display_data"
    }
   ],
   "source": [
    "# Build scatter plot for latitude vs. temperature\n",
    "fig1 = city_data_df.plot(\n",
    "                        kind='scatter',\n",
    "                        x='Lat', y='Max Temp',\n",
    "                        legend=False, marker='o',\n",
    "                        figsize=(8,6), s= 150,\n",
    "                        edgecolor='Black',\n",
    "                        c='Teal'\n",
    ")\n",
    "\n",
    "# Incorporate the other graph properties\n",
    "fig1.set_title('CityPY Cities Latitude vs. Maximum Temperature', fontsize=18, weight='bold')\n",
    "fig1.set_xlabel('Latitude', fontsize=14, weight='bold')\n",
    "fig1.set_ylabel('Maximum Temperature (°F)', fontsize=14, weight='bold')\n",
    "fig1.grid()\n",
    "\n",
    "# Save the figure\n",
    "plt.savefig(\"output_data/Fig1.png\")\n",
    "\n",
    "# Show plot\n",
    "plt.show()"
   ]
  },
  {
   "cell_type": "markdown",
   "metadata": {},
   "source": [
    "#### Latitude Vs. Humidity"
   ]
  },
  {
   "cell_type": "code",
   "execution_count": 10,
   "metadata": {},
   "outputs": [
    {
     "data": {
      "image/png": "[encoded data removed]",
      "text/plain": [
       "<Figure size 576x432 with 1 Axes>"
      ]
     },
     "metadata": {
      "needs_background": "light"
     },
     "output_type": "display_data"
    }
   ],
   "source": [
    "# Build the scatter plots for latitude vs. humidity\n",
    "fig2 = city_data_df.plot(\n",
    "                        kind='scatter',\n",
    "                        x='Lat', y='Humidity',\n",
    "                        legend=False, marker='o',\n",
    "                        figsize=(8,6), s= 150,\n",
    "                        edgecolor='Black',\n",
    "                        c='Teal'\n",
    ")\n",
    "\n",
    "# Incorporate the other graph properties\n",
    "fig2.set_title('CityPY Cities Latitude vs. Humidity', fontsize=18, weight='bold')\n",
    "fig2.set_xlabel('Latitude', fontsize=14, weight='bold')\n",
    "fig2.set_ylabel('Humidity (%)', fontsize=14, weight='bold')\n",
    "fig2.grid()\n",
    "\n",
    "# Save the figure\n",
    "plt.savefig(\"output_data/Fig2.png\")\n",
    "\n",
    "# Show plot\n",
    "plt.show()"
   ]
  },
  {
   "cell_type": "markdown",
   "metadata": {},
   "source": [
    "#### Latitude Vs. Cloudiness"
   ]
  },
  {
   "cell_type": "code",
   "execution_count": 11,
   "metadata": {},
   "outputs": [
    {
     "data": {
      "image/png": "[encoded data removed]",
      "text/plain": [
       "<Figure size 576x432 with 1 Axes>"
      ]
     },
     "metadata": {
      "needs_background": "light"
     },
     "output_type": "display_data"
    }
   ],
   "source": [
    "# Build the scatter plots for latitude vs. cloudiness\n",
    "fig3 = city_data_df.plot(\n",
    "                        kind='scatter',\n",
    "                        x='Lat', y='Cloudiness',\n",
    "                        legend=False, marker='o',\n",
    "                        figsize=(8,6), s= 150,\n",
    "                        edgecolor='Black',\n",
    "                        c='Teal'\n",
    ")\n",
    "# Incorporate the other graph properties\n",
    "fig3.set_title('CityPY Cities Latitude vs. Cloudiness', fontsize=18, weight='bold')\n",
    "fig3.set_xlabel('Latitude', fontsize=14, weight='bold')\n",
    "fig3.set_ylabel('Cloudiness (%)', fontsize=14, weight='bold')\n",
    "fig3.grid()\n",
    "\n",
    "# Save the figure\n",
    "plt.savefig(\"output_data/Fig3.png\")\n",
    "\n",
    "# Show plot\n",
    "plt.show()"
   ]
  },
  {
   "cell_type": "markdown",
   "metadata": {},
   "source": [
    "#### Latitude vs. Wind Speed Plot"
   ]
  },
  {
   "cell_type": "code",
   "execution_count": 12,
   "metadata": {},
   "outputs": [
    {
     "data": {
      "image/png": "[encoded data removed]",
      "text/plain": [
       "<Figure size 576x432 with 1 Axes>"
      ]
     },
     "metadata": {
      "needs_background": "light"
     },
     "output_type": "display_data"
    }
   ],
   "source": [
    "# Build the scatter plots for latitude vs. wind speed\n",
    "fig4 = city_data_df.plot(\n",
    "                        kind='scatter',\n",
    "                        x='Lat', y='Wind Speed',\n",
    "                        legend=False, marker='o',\n",
    "                        figsize=(8,6), s= 150,\n",
    "                        edgecolor='Black',\n",
    "                        c='Teal'\n",
    ")\n",
    "\n",
    "# Incorporate the other graph properties\n",
    "fig4.set_title('CityPY Cities Latitude vs. Wind Speed', fontsize=18, weight='bold')\n",
    "fig4.set_xlabel('Latitude', fontsize=14, weight='bold')\n",
    "fig4.set_ylabel('Wind Speed (mph)', fontsize=14, weight='bold')\n",
    "fig4.grid()\n",
    "\n",
    "# Save the figure\n",
    "plt.savefig(\"output_data/Fig4.png\")\n",
    "\n",
    "# Show plot\n",
    "plt.show()"
   ]
  },
  {
   "cell_type": "markdown",
   "metadata": {},
   "source": [
    "---\n",
    "\n",
    "## Requirement 2: Compute Linear Regression for Each Relationship\n"
   ]
  },
  {
   "cell_type": "code",
   "execution_count": 43,
   "metadata": {},
   "outputs": [
    {
     "name": "stdout",
     "output_type": "stream",
     "text": [
      "The correlation coefficient between Latitude and Maximum Temperature is -0.71\n",
      "The r-value is: 0.49867210179430055\n"
     ]
    },
    {
     "data": {
      "image/png": "[encoded data removed]",
      "text/plain": [
       "<Figure size 576x432 with 1 Axes>"
      ]
     },
     "metadata": {
      "needs_background": "light"
     },
     "output_type": "display_data"
    }
   ],
   "source": [
    "# Define a function to create Linear Regression plots for Latitude vs. each of Maximum Temperature, Humidity, Cloudiness, and Wind Speed\n",
    "fig5, ax5 = plt.subplots(figsize=(8,6))\n",
    "\n",
    "x_values = city_data_df['Lat']\n",
    "y_values = city_data_df['Max Temp']\n",
    "print(f\"The correlation coefficient between Latitude and Maximum Temperature is {round(st.pearsonr(x_values, y_values)[0],2)}\")\n",
    "\n",
    "# for latitude (x-values) and Maximum Temperature (y_values) for the CityPY Cities selected\n",
    "(slope, intercept, rvalue, pvalue, stderr) = linregress(x_values, y_values)\n",
    "regress_values =x_values * slope + intercept\n",
    "\n",
    "slope_intercept = 'y = ' + str(round(slope,2)) + 'x +' + str(round(intercept,2))  ## y = mx + b\n",
    "\n",
    "# plot details, add annotation, add chart features\n",
    "plt.scatter(x_values, y_values, s=150, marker='o', edgecolors='Black', c='Teal')\n",
    "plt.plot(x_values, regress_values, 'r-') ##'r-' is a red line\n",
    "\n",
    "plt.annotate(slope_intercept, xy=(-25,30), xytext=(-25,30), fontsize=20,color=\"red\")\n",
    "\n",
    "# set title, labels, and present the data\n",
    "plt.title('CityPY Cities Latitude vs. Maximum Temperature', fontsize=18, weight='bold')           \n",
    "plt.xlabel('Latitude', fontsize=14, weight='bold')\n",
    "plt.ylabel('Maximum Temperature (°F)', fontsize=14, weight='bold')\n",
    "\n",
    "# print r value\n",
    "print(f'The r-value is: {rvalue**2}')\n",
    "\n",
    "# Save the figure\n",
    "plt.savefig(\"output_data/Fig5.png\")\n",
    "\n",
    "# present the data\n",
    "plt.grid(True)\n",
    "plt.show()"
   ]
  },
  {
   "cell_type": "code",
   "execution_count": 35,
   "metadata": {},
   "outputs": [
    {
     "name": "stdout",
     "output_type": "stream",
     "text": [
      "The correlation coefficient between latitude and Humidity is 0.42\n",
      "The r-value is: 0.17578840974360088\n"
     ]
    },
    {
     "data": {
      "image/png": "[encoded data removed]",
      "text/plain": [
       "<Figure size 576x432 with 1 Axes>"
      ]
     },
     "metadata": {
      "needs_background": "light"
     },
     "output_type": "display_data"
    }
   ],
   "source": [
    "# Define a function to create Linear Regression plots for Latitude vs. each of Maximum Temperature, Humidity, Cloudiness, and Wind Speed\n",
    "fig6, ax6 = plt.subplots(figsize=(8,6))\n",
    "\n",
    "x_values = city_data_df['Lat']\n",
    "y_values = city_data_df['Humidity']\n",
    "print(f\"The correlation coefficient between latitude and Humidity is {round(st.pearsonr(x_values, y_values)[0],2)}\")\n",
    "\n",
    "# for latitude (x-values) and Humidity (y_values) for the CityPY Cities selected\n",
    "(slope, intercept, rvalue, pvalue, stderr) = linregress(x_values, y_values)\n",
    "regress_values =x_values * slope + intercept\n",
    "\n",
    "slope_intercept = 'y = ' + str(round(slope,2)) + 'x +' + str(round(intercept,2))  ## y = mx + b\n",
    "\n",
    "# plot details, add annotation, add chart features\n",
    "plt.scatter(x_values, y_values, s=150, marker='o', edgecolors='Black', c='Teal')\n",
    "plt.plot(x_values, regress_values, 'r-') ##'r-' is a red line\n",
    "\n",
    "plt.annotate(slope_intercept, xy=(-10,50), xytext=(-10,50), fontsize=20,color=\"red\")\n",
    "\n",
    "# set title, labels, and present the data\n",
    "plt.title('CityPY Cities Latitude vs. Humidity', fontsize=18, weight='bold')           \n",
    "plt.xlabel('Latitude', fontsize=14, weight='bold')\n",
    "plt.ylabel('Humidity (%)', fontsize=14, weight='bold')\n",
    "\n",
    "# print r value\n",
    "print(f'The r-value is: {rvalue**2}')\n",
    "\n",
    "# Save the figure\n",
    "plt.savefig(\"output_data/Fig6.png\")\n",
    "\n",
    "# present the data\n",
    "plt.grid(True)\n",
    "plt.show()"
   ]
  },
  {
   "cell_type": "code",
   "execution_count": 36,
   "metadata": {},
   "outputs": [
    {
     "name": "stdout",
     "output_type": "stream",
     "text": [
      "The correlation coefficient between Latitude and Cloudiness is 0.5\n",
      "The r-value is: 0.2548841514146357\n"
     ]
    },
    {
     "data": {
      "image/png": "[encoded data removed]",
      "text/plain": [
       "<Figure size 576x432 with 1 Axes>"
      ]
     },
     "metadata": {
      "needs_background": "light"
     },
     "output_type": "display_data"
    }
   ],
   "source": [
    "# Define a function to create Linear Regression plots for Latitude vs. each of Maximum Temperature, Humidity, Cloudiness, and Wind Speed\n",
    "fig7, ax7 = plt.subplots(figsize=(8,6))\n",
    "\n",
    "x_values = city_data_df['Lat']\n",
    "y_values = city_data_df['Cloudiness']\n",
    "print(f\"The correlation coefficient between Latitude and Cloudiness is {round(st.pearsonr(x_values, y_values)[0],2)}\")\n",
    "\n",
    "# for latitude (x-values) and Cloudiness (y_values) for the CityPY Cities selected\n",
    "(slope, intercept, rvalue, pvalue, stderr) = linregress(x_values, y_values)\n",
    "regress_values =x_values * slope + intercept\n",
    "\n",
    "slope_intercept = 'y = ' + str(round(slope,2)) + 'x +' + str(round(intercept,2))  ## y = mx + b\n",
    "\n",
    "# plot details, add annotation, add chart features\n",
    "plt.scatter(x_values, y_values, s=150, marker='o', edgecolors='Black', c='Teal')\n",
    "plt.plot(x_values, regress_values, 'r-') ##'r-' is a red line\n",
    "\n",
    "plt.annotate(slope_intercept, xy=(10,45), xytext=(10,45), fontsize=20,color=\"red\")\n",
    "\n",
    "# set title, labels, and present the data\n",
    "plt.title('CityPY Cities Latitude vs. Cloudiness', fontsize=18, weight='bold')           \n",
    "plt.xlabel('Latitude', fontsize=14, weight='bold')\n",
    "plt.ylabel('Cloudiness (%)', fontsize=14, weight='bold')\n",
    "\n",
    "# print r value\n",
    "print(f'The r-value is: {rvalue**2}')\n",
    "\n",
    "# Save the figure\n",
    "plt.savefig(\"output_data/Fig7.png\")\n",
    "\n",
    "# present the data\n",
    "plt.grid(True)\n",
    "plt.show()"
   ]
  },
  {
   "cell_type": "code",
   "execution_count": 44,
   "metadata": {},
   "outputs": [
    {
     "name": "stdout",
     "output_type": "stream",
     "text": [
      "The correlation coefficient between Latitude and Wind Speed is -0.21\n",
      "The r-value is: 0.04387922321922366\n"
     ]
    },
    {
     "data": {
      "image/png": "[encoded data removed]",
      "text/plain": [
       "<Figure size 576x432 with 1 Axes>"
      ]
     },
     "metadata": {
      "needs_background": "light"
     },
     "output_type": "display_data"
    }
   ],
   "source": [
    "# Define a function to create Linear Regression plots for Latitude vs. each of Maximum Temperature, Humidity, Cloudiness, and Wind Speed\n",
    "fig8, ax8 = plt.subplots(figsize=(8,6))\n",
    "\n",
    "x_values = city_data_df['Lat']\n",
    "y_values = city_data_df['Wind Speed']\n",
    "print(f\"The correlation coefficient between Latitude and Wind Speed is {round(st.pearsonr(x_values, y_values)[0],2)}\")\n",
    "\n",
    "# for latitude (x-values) and Wind Speed (y_values) for the CityPY Cities selected\n",
    "(slope, intercept, rvalue, pvalue, stderr) = linregress(x_values, y_values)\n",
    "regress_values =x_values * slope + intercept\n",
    "\n",
    "slope_intercept = 'y = ' + str(round(slope,2)) + 'x +' + str(round(intercept,2))  ## y = mx + b\n",
    "\n",
    "# plot details, add annotation, add chart features\n",
    "plt.scatter(x_values, y_values, s=150, marker='o', edgecolors='Black', c='Teal')\n",
    "plt.plot(x_values, regress_values, 'r-') ##'r-' is a red line\n",
    "\n",
    "plt.annotate(slope_intercept, xy=(10,45), xytext=(10,45), fontsize=20,color=\"red\")\n",
    "\n",
    "# set title, labels, and present the data\n",
    "plt.title('CityPY Cities Latitude vs. Wind Speed', fontsize=18, weight='bold')           \n",
    "plt.xlabel('Latitude', fontsize=14, weight='bold')\n",
    "plt.ylabel('Wind Speed (mph)', fontsize=14, weight='bold')\n",
    "\n",
    "# print r value\n",
    "print(f'The r-value is: {rvalue**2}')\n",
    "\n",
    "# Save the figure\n",
    "plt.savefig(\"output_data/Fig8.png\")\n",
    "\n",
    "# present the data\n",
    "plt.grid(True)\n",
    "plt.show()"
   ]
  },
  {
   "cell_type": "code",
   "execution_count": 39,
   "metadata": {},
   "outputs": [
    {
     "data": {
      "text/html": [
       "<div>\n",
       "<style scoped>\n",
       "    .dataframe tbody tr th:only-of-type {\n",
       "        vertical-align: middle;\n",
       "    }\n",
       "\n",
       "    .dataframe tbody tr th {\n",
       "        vertical-align: top;\n",
       "    }\n",
       "\n",
       "    .dataframe thead th {\n",
       "        text-align: right;\n",
       "    }\n",
       "</style>\n",
       "<table border=\"1\" class=\"dataframe\">\n",
       "  <thead>\n",
       "    <tr style=\"text-align: right;\">\n",
       "      <th></th>\n",
       "      <th>City</th>\n",
       "      <th>Lat</th>\n",
       "      <th>Lng</th>\n",
       "      <th>Max Temp</th>\n",
       "      <th>Humidity</th>\n",
       "      <th>Cloudiness</th>\n",
       "      <th>Wind Speed</th>\n",
       "      <th>Country</th>\n",
       "      <th>Date</th>\n",
       "    </tr>\n",
       "    <tr>\n",
       "      <th>City_ID</th>\n",
       "      <th></th>\n",
       "      <th></th>\n",
       "      <th></th>\n",
       "      <th></th>\n",
       "      <th></th>\n",
       "      <th></th>\n",
       "      <th></th>\n",
       "      <th></th>\n",
       "      <th></th>\n",
       "    </tr>\n",
       "  </thead>\n",
       "  <tbody>\n",
       "    <tr>\n",
       "      <th>0</th>\n",
       "      <td>ati</td>\n",
       "      <td>13.2154</td>\n",
       "      <td>18.3353</td>\n",
       "      <td>70.90</td>\n",
       "      <td>17</td>\n",
       "      <td>100</td>\n",
       "      <td>9.37</td>\n",
       "      <td>TD</td>\n",
       "      <td>1675662693</td>\n",
       "    </tr>\n",
       "    <tr>\n",
       "      <th>2</th>\n",
       "      <td>yagodnoye</td>\n",
       "      <td>62.5500</td>\n",
       "      <td>149.6667</td>\n",
       "      <td>-25.78</td>\n",
       "      <td>100</td>\n",
       "      <td>100</td>\n",
       "      <td>2.71</td>\n",
       "      <td>RU</td>\n",
       "      <td>1675662694</td>\n",
       "    </tr>\n",
       "    <tr>\n",
       "      <th>4</th>\n",
       "      <td>gra liyia</td>\n",
       "      <td>35.0167</td>\n",
       "      <td>25.6833</td>\n",
       "      <td>44.13</td>\n",
       "      <td>82</td>\n",
       "      <td>26</td>\n",
       "      <td>20.00</td>\n",
       "      <td>GR</td>\n",
       "      <td>1675662694</td>\n",
       "    </tr>\n",
       "    <tr>\n",
       "      <th>5</th>\n",
       "      <td>kapaa</td>\n",
       "      <td>22.0752</td>\n",
       "      <td>-159.3190</td>\n",
       "      <td>76.98</td>\n",
       "      <td>87</td>\n",
       "      <td>100</td>\n",
       "      <td>13.80</td>\n",
       "      <td>US</td>\n",
       "      <td>1675662695</td>\n",
       "    </tr>\n",
       "    <tr>\n",
       "      <th>6</th>\n",
       "      <td>nikolskoye</td>\n",
       "      <td>59.7035</td>\n",
       "      <td>30.7861</td>\n",
       "      <td>28.29</td>\n",
       "      <td>99</td>\n",
       "      <td>100</td>\n",
       "      <td>2.73</td>\n",
       "      <td>RU</td>\n",
       "      <td>1675662695</td>\n",
       "    </tr>\n",
       "  </tbody>\n",
       "</table>\n",
       "</div>"
      ],
      "text/plain": [
       "               City      Lat       Lng  Max Temp  Humidity  Cloudiness  \\\n",
       "City_ID                                                                  \n",
       "0               ati  13.2154   18.3353     70.90        17         100   \n",
       "2         yagodnoye  62.5500  149.6667    -25.78       100         100   \n",
       "4         gra liyia  35.0167   25.6833     44.13        82          26   \n",
       "5             kapaa  22.0752 -159.3190     76.98        87         100   \n",
       "6        nikolskoye  59.7035   30.7861     28.29        99         100   \n",
       "\n",
       "         Wind Speed Country        Date  \n",
       "City_ID                                  \n",
       "0              9.37      TD  1675662693  \n",
       "2              2.71      RU  1675662694  \n",
       "4             20.00      GR  1675662694  \n",
       "5             13.80      US  1675662695  \n",
       "6              2.73      RU  1675662695  "
      ]
     },
     "execution_count": 39,
     "metadata": {},
     "output_type": "execute_result"
    }
   ],
   "source": [
    "# Create a DataFrame with the Northern Hemisphere data (Latitude >= 0)\n",
    "northern_hemi_df = city_data_df.loc[city_data_df['Lat'] >= 0]\n",
    "\n",
    "# Display sample data\n",
    "northern_hemi_df.head()"
   ]
  },
  {
   "cell_type": "code",
   "execution_count": 40,
   "metadata": {},
   "outputs": [
    {
     "data": {
      "text/html": [
       "<div>\n",
       "<style scoped>\n",
       "    .dataframe tbody tr th:only-of-type {\n",
       "        vertical-align: middle;\n",
       "    }\n",
       "\n",
       "    .dataframe tbody tr th {\n",
       "        vertical-align: top;\n",
       "    }\n",
       "\n",
       "    .dataframe thead th {\n",
       "        text-align: right;\n",
       "    }\n",
       "</style>\n",
       "<table border=\"1\" class=\"dataframe\">\n",
       "  <thead>\n",
       "    <tr style=\"text-align: right;\">\n",
       "      <th></th>\n",
       "      <th>City</th>\n",
       "      <th>Lat</th>\n",
       "      <th>Lng</th>\n",
       "      <th>Max Temp</th>\n",
       "      <th>Humidity</th>\n",
       "      <th>Cloudiness</th>\n",
       "      <th>Wind Speed</th>\n",
       "      <th>Country</th>\n",
       "      <th>Date</th>\n",
       "    </tr>\n",
       "    <tr>\n",
       "      <th>City_ID</th>\n",
       "      <th></th>\n",
       "      <th></th>\n",
       "      <th></th>\n",
       "      <th></th>\n",
       "      <th></th>\n",
       "      <th></th>\n",
       "      <th></th>\n",
       "      <th></th>\n",
       "      <th></th>\n",
       "    </tr>\n",
       "  </thead>\n",
       "  <tbody>\n",
       "    <tr>\n",
       "      <th>1</th>\n",
       "      <td>east london</td>\n",
       "      <td>-33.0153</td>\n",
       "      <td>27.9116</td>\n",
       "      <td>77.94</td>\n",
       "      <td>78</td>\n",
       "      <td>40</td>\n",
       "      <td>10.36</td>\n",
       "      <td>ZA</td>\n",
       "      <td>1675662693</td>\n",
       "    </tr>\n",
       "    <tr>\n",
       "      <th>3</th>\n",
       "      <td>carnarvon</td>\n",
       "      <td>-24.8667</td>\n",
       "      <td>113.6333</td>\n",
       "      <td>83.71</td>\n",
       "      <td>59</td>\n",
       "      <td>0</td>\n",
       "      <td>19.17</td>\n",
       "      <td>AU</td>\n",
       "      <td>1675662694</td>\n",
       "    </tr>\n",
       "    <tr>\n",
       "      <th>10</th>\n",
       "      <td>rocha</td>\n",
       "      <td>-34.4833</td>\n",
       "      <td>-54.3333</td>\n",
       "      <td>59.94</td>\n",
       "      <td>94</td>\n",
       "      <td>17</td>\n",
       "      <td>5.84</td>\n",
       "      <td>UY</td>\n",
       "      <td>1675662696</td>\n",
       "    </tr>\n",
       "    <tr>\n",
       "      <th>11</th>\n",
       "      <td>bluff</td>\n",
       "      <td>-46.6000</td>\n",
       "      <td>168.3333</td>\n",
       "      <td>60.28</td>\n",
       "      <td>76</td>\n",
       "      <td>88</td>\n",
       "      <td>23.51</td>\n",
       "      <td>NZ</td>\n",
       "      <td>1675662697</td>\n",
       "    </tr>\n",
       "    <tr>\n",
       "      <th>15</th>\n",
       "      <td>puerto ayora</td>\n",
       "      <td>-0.7393</td>\n",
       "      <td>-90.3518</td>\n",
       "      <td>78.55</td>\n",
       "      <td>92</td>\n",
       "      <td>25</td>\n",
       "      <td>5.99</td>\n",
       "      <td>EC</td>\n",
       "      <td>1675662698</td>\n",
       "    </tr>\n",
       "  </tbody>\n",
       "</table>\n",
       "</div>"
      ],
      "text/plain": [
       "                 City      Lat       Lng  Max Temp  Humidity  Cloudiness  \\\n",
       "City_ID                                                                    \n",
       "1         east london -33.0153   27.9116     77.94        78          40   \n",
       "3           carnarvon -24.8667  113.6333     83.71        59           0   \n",
       "10              rocha -34.4833  -54.3333     59.94        94          17   \n",
       "11              bluff -46.6000  168.3333     60.28        76          88   \n",
       "15       puerto ayora  -0.7393  -90.3518     78.55        92          25   \n",
       "\n",
       "         Wind Speed Country        Date  \n",
       "City_ID                                  \n",
       "1             10.36      ZA  1675662693  \n",
       "3             19.17      AU  1675662694  \n",
       "10             5.84      UY  1675662696  \n",
       "11            23.51      NZ  1675662697  \n",
       "15             5.99      EC  1675662698  "
      ]
     },
     "execution_count": 40,
     "metadata": {},
     "output_type": "execute_result"
    }
   ],
   "source": [
    "# Create a DataFrame with the Southern Hemisphere data (Latitude < 0)\n",
    "southern_hemi_df = city_data_df.loc[city_data_df['Lat'] < 0]\n",
    "\n",
    "# Display sample data\n",
    "southern_hemi_df.head()"
   ]
  },
  {
   "cell_type": "markdown",
   "metadata": {},
   "source": [
    "###  Temperature vs. Latitude Linear Regression Plot"
   ]
  },
  {
   "cell_type": "code",
   "execution_count": 41,
   "metadata": {},
   "outputs": [
    {
     "ename": "NameError",
     "evalue": "name 'x_value' is not defined",
     "output_type": "error",
     "traceback": [
      "\u001b[1;31m---------------------------------------------------------------------------\u001b[0m",
      "\u001b[1;31mNameError\u001b[0m                                 Traceback (most recent call last)",
      "\u001b[1;32m~\\AppData\\Local\\Temp\\ipykernel_14904\\1473175821.py\u001b[0m in \u001b[0;36m<module>\u001b[1;34m\u001b[0m\n\u001b[1;32m----> 1\u001b[1;33m \u001b[1;33m(\u001b[0m\u001b[0mslope\u001b[0m\u001b[1;33m,\u001b[0m \u001b[0mintercept\u001b[0m\u001b[1;33m,\u001b[0m \u001b[0mrvalue\u001b[0m\u001b[1;33m,\u001b[0m \u001b[0mpvalue\u001b[0m\u001b[1;33m,\u001b[0m \u001b[0mstderr\u001b[0m\u001b[1;33m)\u001b[0m \u001b[1;33m=\u001b[0m \u001b[0mlinregress\u001b[0m\u001b[1;33m(\u001b[0m\u001b[0mx_value\u001b[0m\u001b[1;33m,\u001b[0m \u001b[0my_value\u001b[0m\u001b[1;33m)\u001b[0m\u001b[1;33m\u001b[0m\u001b[1;33m\u001b[0m\u001b[0m\n\u001b[0m\u001b[0;32m      2\u001b[0m \u001b[0mregress_values\u001b[0m \u001b[1;33m=\u001b[0m \u001b[0mx_value\u001b[0m \u001b[1;33m*\u001b[0m \u001b[0mslope\u001b[0m \u001b[1;33m+\u001b[0m \u001b[0mintercept\u001b[0m\u001b[1;33m\u001b[0m\u001b[1;33m\u001b[0m\u001b[0m\n\u001b[0;32m      3\u001b[0m \u001b[0mm\u001b[0m \u001b[1;33m=\u001b[0m \u001b[0mround\u001b[0m\u001b[1;33m(\u001b[0m\u001b[0mslope\u001b[0m\u001b[1;33m,\u001b[0m\u001b[1;36m2\u001b[0m\u001b[1;33m)\u001b[0m\u001b[1;33m\u001b[0m\u001b[1;33m\u001b[0m\u001b[0m\n\u001b[0;32m      4\u001b[0m \u001b[0mb\u001b[0m \u001b[1;33m=\u001b[0m \u001b[0mround\u001b[0m\u001b[1;33m(\u001b[0m\u001b[0mintercept\u001b[0m\u001b[1;33m,\u001b[0m\u001b[1;36m2\u001b[0m\u001b[1;33m)\u001b[0m\u001b[1;33m\u001b[0m\u001b[1;33m\u001b[0m\u001b[0m\n\u001b[0;32m      5\u001b[0m \u001b[0mslope_intercept\u001b[0m \u001b[1;33m=\u001b[0m \u001b[1;34mf'y = {m}x + {b}'\u001b[0m\u001b[1;33m\u001b[0m\u001b[1;33m\u001b[0m\u001b[0m\n",
      "\u001b[1;31mNameError\u001b[0m: name 'x_value' is not defined"
     ]
    }
   ],
   "source": [
    "\n",
    "(slope, intercept, rvalue, pvalue, stderr) = linregress(x_value, y_value)\n",
    "regress_values = x_value * slope + intercept\n",
    "m = round(slope,2)\n",
    "b = round(intercept,2)\n",
    "slope_intercept = f'y = {m}x + {b}'\n",
    "\n",
    "fig_no = city_data_df.plot(\n",
    "                        kind='scatter',\n",
    "                        x=x_value, y=y_value,\n",
    "                        legend=False, marker='o',\n",
    "                        figsize=(8,6), s= 150,\n",
    "                        edgecolor='Black',\n",
    "                        c='Teal'\n",
    "    )\n",
    "fig_no.seplt.annotate(slope_intercept, xy=(22, 40), xytext=(15,40.75), fontsize=20,color=\"red\")\n",
    "fig_no.set_title(plot_title, fontsize=18, weight='bold')\n",
    "fig_no.set_suptitle(plot_title_sup, fontsize=16, weight='bold')\n",
    "fig_no.set_xlabel(plot_xlabel, fontsize=14, weight='bold')\n",
    "fig_no.set_ylabel(plot_ylabel, fontsize=14, weight='bold')\n",
    "fig_no.grid()"
   ]
  },
  {
   "cell_type": "code",
   "execution_count": null,
   "metadata": {},
   "outputs": [],
   "source": [
    "fig, axs = plt.subplots(2, 2)\n",
    "axs[0, 0].plot(x, y)\n",
    "axs[0, 0].set_title('Axis [0, 0]')\n",
    "axs[0, 1].plot(x, y, 'tab:orange')\n",
    "axs[0, 1].set_title('Axis [0, 1]')\n",
    "axs[1, 0].plot(x, -y, 'tab:green')\n",
    "axs[1, 0].set_title('Axis [1, 0]')\n",
    "axs[1, 1].plot(x, -y, 'tab:red')\n",
    "axs[1, 1].set_title('Axis [1, 1]')\n",
    "\n",
    "for ax in axs.flat:\n",
    "    ax.set(xlabel='x-label', ylabel='y-label')\n",
    "\n",
    "# Hide x labels and tick labels for top plots and y ticks for right plots.\n",
    "for ax in axs.flat:\n",
    "    ax.label_outer()"
   ]
  },
  {
   "cell_type": "code",
   "execution_count": 19,
   "metadata": {},
   "outputs": [
    {
     "ename": "KeyError",
     "evalue": "\"None of [Float64Index([20.2167, 64.3833, 64.2539, 41.3712, 65.6145, 57.0531, 69.3833,\\n              16.5167, 41.3834, 19.7297, 10.5669, 10.6667, 47.6446,  3.0707,\\n              69.7008, 72.7868],\\n             dtype='float64', name='City_ID')] are in the [index]\"",
     "output_type": "error",
     "traceback": [
      "\u001b[1;31m---------------------------------------------------------------------------\u001b[0m",
      "\u001b[1;31mKeyError\u001b[0m                                  Traceback (most recent call last)",
      "\u001b[1;32m~\\AppData\\Local\\Temp\\ipykernel_25808\\1316241394.py\u001b[0m in \u001b[0;36m<module>\u001b[1;34m\u001b[0m\n\u001b[0;32m      2\u001b[0m \u001b[1;31m# YOUR CODE HERE\u001b[0m\u001b[1;33m\u001b[0m\u001b[1;33m\u001b[0m\u001b[1;33m\u001b[0m\u001b[0m\n\u001b[0;32m      3\u001b[0m \u001b[0mj\u001b[0m \u001b[1;33m=\u001b[0m \u001b[1;36m10\u001b[0m    \u001b[1;31m# number figure to avoid plotting confusion\u001b[0m\u001b[1;33m\u001b[0m\u001b[1;33m\u001b[0m\u001b[0m\n\u001b[1;32m----> 4\u001b[1;33m \u001b[0mx_value\u001b[0m \u001b[1;33m=\u001b[0m \u001b[0mnorthern_hemi_df\u001b[0m\u001b[1;33m.\u001b[0m\u001b[0mloc\u001b[0m\u001b[1;33m[\u001b[0m\u001b[0mnorthern_hemi_df\u001b[0m\u001b[1;33m[\u001b[0m\u001b[1;34m'Lat'\u001b[0m\u001b[1;33m]\u001b[0m\u001b[1;33m]\u001b[0m\u001b[1;33m\u001b[0m\u001b[1;33m\u001b[0m\u001b[0m\n\u001b[0m\u001b[0;32m      5\u001b[0m \u001b[0my_value\u001b[0m \u001b[1;33m=\u001b[0m \u001b[0mnorthern_hemi_df\u001b[0m\u001b[1;33m.\u001b[0m\u001b[0mloc\u001b[0m\u001b[1;33m[\u001b[0m\u001b[0mnorthern_hemi_df\u001b[0m\u001b[1;33m[\u001b[0m\u001b[1;34m'Max Temp'\u001b[0m\u001b[1;33m]\u001b[0m\u001b[1;33m]\u001b[0m\u001b[1;33m\u001b[0m\u001b[1;33m\u001b[0m\u001b[0m\n\u001b[0;32m      6\u001b[0m \u001b[0mplot_title\u001b[0m \u001b[1;33m=\u001b[0m \u001b[1;34m'Temperature vs. Latitude Linear Regression Plot'\u001b[0m\u001b[1;33m\u001b[0m\u001b[1;33m\u001b[0m\u001b[0m\n",
      "\u001b[1;32m~\\anaconda3\\envs\\PythonData\\lib\\site-packages\\pandas\\core\\indexing.py\u001b[0m in \u001b[0;36m__getitem__\u001b[1;34m(self, key)\u001b[0m\n\u001b[0;32m   1766\u001b[0m \u001b[1;33m\u001b[0m\u001b[0m\n\u001b[0;32m   1767\u001b[0m             \u001b[0mmaybe_callable\u001b[0m \u001b[1;33m=\u001b[0m \u001b[0mcom\u001b[0m\u001b[1;33m.\u001b[0m\u001b[0mapply_if_callable\u001b[0m\u001b[1;33m(\u001b[0m\u001b[0mkey\u001b[0m\u001b[1;33m,\u001b[0m \u001b[0mself\u001b[0m\u001b[1;33m.\u001b[0m\u001b[0mobj\u001b[0m\u001b[1;33m)\u001b[0m\u001b[1;33m\u001b[0m\u001b[1;33m\u001b[0m\u001b[0m\n\u001b[1;32m-> 1768\u001b[1;33m             \u001b[1;32mreturn\u001b[0m \u001b[0mself\u001b[0m\u001b[1;33m.\u001b[0m\u001b[0m_getitem_axis\u001b[0m\u001b[1;33m(\u001b[0m\u001b[0mmaybe_callable\u001b[0m\u001b[1;33m,\u001b[0m \u001b[0maxis\u001b[0m\u001b[1;33m=\u001b[0m\u001b[0maxis\u001b[0m\u001b[1;33m)\u001b[0m\u001b[1;33m\u001b[0m\u001b[1;33m\u001b[0m\u001b[0m\n\u001b[0m\u001b[0;32m   1769\u001b[0m \u001b[1;33m\u001b[0m\u001b[0m\n\u001b[0;32m   1770\u001b[0m     \u001b[1;32mdef\u001b[0m \u001b[0m_is_scalar_access\u001b[0m\u001b[1;33m(\u001b[0m\u001b[0mself\u001b[0m\u001b[1;33m,\u001b[0m \u001b[0mkey\u001b[0m\u001b[1;33m:\u001b[0m \u001b[0mTuple\u001b[0m\u001b[1;33m)\u001b[0m\u001b[1;33m:\u001b[0m\u001b[1;33m\u001b[0m\u001b[1;33m\u001b[0m\u001b[0m\n",
      "\u001b[1;32m~\\anaconda3\\envs\\PythonData\\lib\\site-packages\\pandas\\core\\indexing.py\u001b[0m in \u001b[0;36m_getitem_axis\u001b[1;34m(self, key, axis)\u001b[0m\n\u001b[0;32m   1952\u001b[0m                     \u001b[1;32mraise\u001b[0m \u001b[0mValueError\u001b[0m\u001b[1;33m(\u001b[0m\u001b[1;34m\"Cannot index with multidimensional key\"\u001b[0m\u001b[1;33m)\u001b[0m\u001b[1;33m\u001b[0m\u001b[1;33m\u001b[0m\u001b[0m\n\u001b[0;32m   1953\u001b[0m \u001b[1;33m\u001b[0m\u001b[0m\n\u001b[1;32m-> 1954\u001b[1;33m                 \u001b[1;32mreturn\u001b[0m \u001b[0mself\u001b[0m\u001b[1;33m.\u001b[0m\u001b[0m_getitem_iterable\u001b[0m\u001b[1;33m(\u001b[0m\u001b[0mkey\u001b[0m\u001b[1;33m,\u001b[0m \u001b[0maxis\u001b[0m\u001b[1;33m=\u001b[0m\u001b[0maxis\u001b[0m\u001b[1;33m)\u001b[0m\u001b[1;33m\u001b[0m\u001b[1;33m\u001b[0m\u001b[0m\n\u001b[0m\u001b[0;32m   1955\u001b[0m \u001b[1;33m\u001b[0m\u001b[0m\n\u001b[0;32m   1956\u001b[0m             \u001b[1;31m# nested tuple slicing\u001b[0m\u001b[1;33m\u001b[0m\u001b[1;33m\u001b[0m\u001b[1;33m\u001b[0m\u001b[0m\n",
      "\u001b[1;32m~\\anaconda3\\envs\\PythonData\\lib\\site-packages\\pandas\\core\\indexing.py\u001b[0m in \u001b[0;36m_getitem_iterable\u001b[1;34m(self, key, axis)\u001b[0m\n\u001b[0;32m   1593\u001b[0m         \u001b[1;32melse\u001b[0m\u001b[1;33m:\u001b[0m\u001b[1;33m\u001b[0m\u001b[1;33m\u001b[0m\u001b[0m\n\u001b[0;32m   1594\u001b[0m             \u001b[1;31m# A collection of keys\u001b[0m\u001b[1;33m\u001b[0m\u001b[1;33m\u001b[0m\u001b[1;33m\u001b[0m\u001b[0m\n\u001b[1;32m-> 1595\u001b[1;33m             \u001b[0mkeyarr\u001b[0m\u001b[1;33m,\u001b[0m \u001b[0mindexer\u001b[0m \u001b[1;33m=\u001b[0m \u001b[0mself\u001b[0m\u001b[1;33m.\u001b[0m\u001b[0m_get_listlike_indexer\u001b[0m\u001b[1;33m(\u001b[0m\u001b[0mkey\u001b[0m\u001b[1;33m,\u001b[0m \u001b[0maxis\u001b[0m\u001b[1;33m,\u001b[0m \u001b[0mraise_missing\u001b[0m\u001b[1;33m=\u001b[0m\u001b[1;32mFalse\u001b[0m\u001b[1;33m)\u001b[0m\u001b[1;33m\u001b[0m\u001b[1;33m\u001b[0m\u001b[0m\n\u001b[0m\u001b[0;32m   1596\u001b[0m             return self.obj._reindex_with_indexers(\n\u001b[0;32m   1597\u001b[0m                 \u001b[1;33m{\u001b[0m\u001b[0maxis\u001b[0m\u001b[1;33m:\u001b[0m \u001b[1;33m[\u001b[0m\u001b[0mkeyarr\u001b[0m\u001b[1;33m,\u001b[0m \u001b[0mindexer\u001b[0m\u001b[1;33m]\u001b[0m\u001b[1;33m}\u001b[0m\u001b[1;33m,\u001b[0m \u001b[0mcopy\u001b[0m\u001b[1;33m=\u001b[0m\u001b[1;32mTrue\u001b[0m\u001b[1;33m,\u001b[0m \u001b[0mallow_dups\u001b[0m\u001b[1;33m=\u001b[0m\u001b[1;32mTrue\u001b[0m\u001b[1;33m\u001b[0m\u001b[1;33m\u001b[0m\u001b[0m\n",
      "\u001b[1;32m~\\anaconda3\\envs\\PythonData\\lib\\site-packages\\pandas\\core\\indexing.py\u001b[0m in \u001b[0;36m_get_listlike_indexer\u001b[1;34m(self, key, axis, raise_missing)\u001b[0m\n\u001b[0;32m   1551\u001b[0m \u001b[1;33m\u001b[0m\u001b[0m\n\u001b[0;32m   1552\u001b[0m         self._validate_read_indexer(\n\u001b[1;32m-> 1553\u001b[1;33m             \u001b[0mkeyarr\u001b[0m\u001b[1;33m,\u001b[0m \u001b[0mindexer\u001b[0m\u001b[1;33m,\u001b[0m \u001b[0mo\u001b[0m\u001b[1;33m.\u001b[0m\u001b[0m_get_axis_number\u001b[0m\u001b[1;33m(\u001b[0m\u001b[0maxis\u001b[0m\u001b[1;33m)\u001b[0m\u001b[1;33m,\u001b[0m \u001b[0mraise_missing\u001b[0m\u001b[1;33m=\u001b[0m\u001b[0mraise_missing\u001b[0m\u001b[1;33m\u001b[0m\u001b[1;33m\u001b[0m\u001b[0m\n\u001b[0m\u001b[0;32m   1554\u001b[0m         )\n\u001b[0;32m   1555\u001b[0m         \u001b[1;32mreturn\u001b[0m \u001b[0mkeyarr\u001b[0m\u001b[1;33m,\u001b[0m \u001b[0mindexer\u001b[0m\u001b[1;33m\u001b[0m\u001b[1;33m\u001b[0m\u001b[0m\n",
      "\u001b[1;32m~\\anaconda3\\envs\\PythonData\\lib\\site-packages\\pandas\\core\\indexing.py\u001b[0m in \u001b[0;36m_validate_read_indexer\u001b[1;34m(self, key, indexer, axis, raise_missing)\u001b[0m\n\u001b[0;32m   1638\u001b[0m             \u001b[1;32mif\u001b[0m \u001b[0mmissing\u001b[0m \u001b[1;33m==\u001b[0m \u001b[0mlen\u001b[0m\u001b[1;33m(\u001b[0m\u001b[0mindexer\u001b[0m\u001b[1;33m)\u001b[0m\u001b[1;33m:\u001b[0m\u001b[1;33m\u001b[0m\u001b[1;33m\u001b[0m\u001b[0m\n\u001b[0;32m   1639\u001b[0m                 \u001b[0maxis_name\u001b[0m \u001b[1;33m=\u001b[0m \u001b[0mself\u001b[0m\u001b[1;33m.\u001b[0m\u001b[0mobj\u001b[0m\u001b[1;33m.\u001b[0m\u001b[0m_get_axis_name\u001b[0m\u001b[1;33m(\u001b[0m\u001b[0maxis\u001b[0m\u001b[1;33m)\u001b[0m\u001b[1;33m\u001b[0m\u001b[1;33m\u001b[0m\u001b[0m\n\u001b[1;32m-> 1640\u001b[1;33m                 \u001b[1;32mraise\u001b[0m \u001b[0mKeyError\u001b[0m\u001b[1;33m(\u001b[0m\u001b[1;34mf\"None of [{key}] are in the [{axis_name}]\"\u001b[0m\u001b[1;33m)\u001b[0m\u001b[1;33m\u001b[0m\u001b[1;33m\u001b[0m\u001b[0m\n\u001b[0m\u001b[0;32m   1641\u001b[0m \u001b[1;33m\u001b[0m\u001b[0m\n\u001b[0;32m   1642\u001b[0m             \u001b[1;31m# We (temporarily) allow for some missing keys with .loc, except in\u001b[0m\u001b[1;33m\u001b[0m\u001b[1;33m\u001b[0m\u001b[1;33m\u001b[0m\u001b[0m\n",
      "\u001b[1;31mKeyError\u001b[0m: \"None of [Float64Index([20.2167, 64.3833, 64.2539, 41.3712, 65.6145, 57.0531, 69.3833,\\n              16.5167, 41.3834, 19.7297, 10.5669, 10.6667, 47.6446,  3.0707,\\n              69.7008, 72.7868],\\n             dtype='float64', name='City_ID')] are in the [index]\""
     ]
    }
   ],
   "source": [
    "# Linear regression on Northern Hemisphere\n",
    "\n",
    "fig9, ax9 = plt.subplots(figsize=(8,6))\n",
    "\n",
    "x_values = city_data_df['Lat']\n",
    "y_values = city_data_df['Wind Speed']\n",
    "print(f\"The correlation coefficient between Latitude and Wind Speed is {round(st.pearsonr(x_values, y_values)[0],2)}\")\n",
    "\n",
    "# for latitude (x-values) and Wind Speed (y_values) for the CityPY Cities selected\n",
    "(slope, intercept, rvalue, pvalue, stderr) = linregress(x_values, y_values)\n",
    "regress_values =x_values * slope + intercept\n",
    "\n",
    "slope_intercept = 'y = ' + str(round(slope,2)) + 'x +' + str(round(intercept,2))  ## y = mx + b\n",
    "\n",
    "# plot details, add annotation, add chart features\n",
    "plt.scatter(x_values, y_values, s=150, marker='o', edgecolors='Black', c='Teal')\n",
    "plt.plot(x_values, regress_values, 'r-') ##'r-' is a red line\n",
    "\n",
    "plt.annotate(slope_intercept, xy=(10,45), xytext=(10,45), fontsize=20,color=\"red\")\n",
    "\n",
    "# set title, labels, and present the data\n",
    "plt.title('CityPY Cities Latitude vs. Wind Speed', fontsize=18, weight='bold')           \n",
    "plt.xlabel('Latitude', fontsize=14, weight='bold')\n",
    "plt.ylabel('Wind Speed (mph)', fontsize=14, weight='bold')\n",
    "\n",
    "# print r value\n",
    "print(f'The r-value is: {rvalue**2}')\n",
    "\n",
    "# present the data\n",
    "plt.grid(True)\n",
    "plt.show()\n",
    "j = 10    # number figure to avoid plotting confusion\n",
    "x_value = northern_hemi_df.loc[northern_hemi_df['Lat']]\n",
    "y_value = northern_hemi_df.loc[northern_hemi_df['Max Temp']]\n",
    "plot_title = 'Temperature vs. Latitude Linear Regression Plot'\n",
    "plot_title_sup = 'Northern Hemisphere'\n",
    "plot_xlabel = 'Latitude'\n",
    "plot_ylabel = 'Maximum Temperature (°F)'\n",
    "    ## Function to create plot\n",
    "\n",
    "create_plot(x_value, y_value, j)\n",
    "    \n",
    "plt.show()"
   ]
  },
  {
   "cell_type": "code",
   "execution_count": null,
   "metadata": {
    "scrolled": true
   },
   "outputs": [],
   "source": [
    "# Linear regression on Southern Hemisphere\n",
    "# YOUR CODE HERE\n",
    "j += 1\n",
    "x_value = southern_hemi_df['Lat']\n",
    "y_value = southern_hemi_df['Max Temp']\n",
    "plot_title = 'Temperature vs. Latitude Linear Regression Plot'\n",
    "plot_title_sup = 'Southern Hemisphere'\n",
    "plot_xlabel = 'Latitude'\n",
    "plot_ylabel = 'Maximum Temperature (°F)'\n",
    "    ## Function to create plot\n",
    "create_plot(x_value, y_value, j)\n",
    "    \n",
    "plt.show()\n",
    "#x_value, y_value, j"
   ]
  },
  {
   "cell_type": "markdown",
   "metadata": {},
   "source": [
    "**Discussion about the linear relationship:** YOUR RESPONSE HERE"
   ]
  },
  {
   "cell_type": "markdown",
   "metadata": {},
   "source": [
    "### Humidity vs. Latitude Linear Regression Plot"
   ]
  },
  {
   "cell_type": "code",
   "execution_count": null,
   "metadata": {},
   "outputs": [],
   "source": [
    "# Northern Hemisphere\n",
    "# YOUR CODE HERE\n",
    "j += 1    # number figure to avoid plotting confusion\n",
    "x_value = northern_hemi_df['Lat']\n",
    "y_value = northern_hemi_df['Humidity']\n",
    "plot_title = 'Humidity vs. Latitude Linear Regression Plot'\n",
    "plot_title_sup = 'Northern Hemisphere'\n",
    "plot_xlabel = 'Latitude'\n",
    "plot_ylabel = 'Humidity'\n",
    "    ## Function to create plot\n",
    "create_plot(x_value, y_value, j)\n",
    "    \n",
    "plt.show()"
   ]
  },
  {
   "cell_type": "code",
   "execution_count": null,
   "metadata": {},
   "outputs": [],
   "source": [
    "# Southern Hemisphere\n",
    "# YOUR CODE HERE\n",
    "j += 1\n",
    "x_value = southern_hemi_df['Lat']\n",
    "y_value = southern_hemi_df['Humidity']\n",
    "plot_title = 'Humidity vs. Latitude Linear Regression Plot'\n",
    "plot_title_sup = 'Southern Hemisphere'\n",
    "plot_xlabel = 'Latitude'\n",
    "plot_ylabel = 'Humidity'\n",
    "    ## Function to create plot\n",
    "create_plot(x_value, y_value, j)\n",
    "    \n",
    "plt.show()"
   ]
  },
  {
   "cell_type": "markdown",
   "metadata": {},
   "source": [
    "**Discussion about the linear relationship:** YOUR RESPONSE HERE"
   ]
  },
  {
   "cell_type": "markdown",
   "metadata": {},
   "source": [
    "### Cloudiness vs. Latitude Linear Regression Plot"
   ]
  },
  {
   "cell_type": "code",
   "execution_count": null,
   "metadata": {},
   "outputs": [],
   "source": [
    "# Northern Hemisphere\n",
    "# YOUR CODE HERE\n",
    "j += 1    # number figure to avoid plotting confusion\n",
    "x_value = northern_hemi_df['Lat']\n",
    "y_value = northern_hemi_df['Cloudiness']\n",
    "plot_title = 'Cloudiness vs. Latitude Linear Regression Plot'\n",
    "plot_title_sup = 'Northern Hemisphere'\n",
    "plot_xlabel = 'Latitude'\n",
    "plot_ylabel = 'Cloudiness (oktas)'\n",
    "    ## Function to create plot\n",
    "create_plot(x_value, y_value, j)\n",
    "    \n",
    "plt.show()"
   ]
  },
  {
   "cell_type": "code",
   "execution_count": null,
   "metadata": {},
   "outputs": [],
   "source": [
    "# Southern Hemisphere\n",
    "# YOUR CODE HERE\n",
    "j += 1\n",
    "x_value = southern_hemi_df['Lat']\n",
    "y_value = southern_hemi_df['Cloudiness']\n",
    "plot_title = 'Cloudiness vs. Latitude Linear Regression Plot'\n",
    "plot_title_sup = 'Southern Hemisphere'\n",
    "plot_xlabel = 'Latitude'\n",
    "plot_ylabel = 'Cloudiness (oktas)'\n",
    "    ## Function to create plot\n",
    "create_plot(x_value, y_value, j)\n",
    "    \n",
    "plt.show()"
   ]
  },
  {
   "cell_type": "markdown",
   "metadata": {},
   "source": [
    "**Discussion about the linear relationship:** YOUR RESPONSE HERE"
   ]
  },
  {
   "cell_type": "markdown",
   "metadata": {},
   "source": [
    "### Wind Speed vs. Latitude Linear Regression Plot"
   ]
  },
  {
   "cell_type": "code",
   "execution_count": null,
   "metadata": {},
   "outputs": [],
   "source": [
    "# Northern Hemisphere\n",
    "# YOUR CODE HERE\n",
    "j += 1    # number figure to avoid plotting confusion\n",
    "x_value = northern_hemi_df['Lat']\n",
    "y_value = northern_hemi_df['Wind Speed']\n",
    "plot_title = 'Wind Speed vs. Latitude Linear Regression Plot'\n",
    "plot_title_sup = 'Northern Hemisphere'\n",
    "plot_xlabel = 'Latitude'\n",
    "plot_ylabel = 'Wind Speed (m/s)'\n",
    "    ## Function to create plot\n",
    "create_plot(x_value, y_value, j)\n",
    "    \n",
    "plt.show()"
   ]
  },
  {
   "cell_type": "code",
   "execution_count": null,
   "metadata": {},
   "outputs": [],
   "source": [
    "# Southern Hemisphere\n",
    "# YOUR CODE HERE\n",
    "j += 1\n",
    "x_value = southern_hemi_df['Lat']\n",
    "y_value = southern_hemi_df['Wind Speed']\n",
    "plot_title = 'Cloudiness vs. Latitude Linear Regression Plot'\n",
    "plot_title_sup = 'Southern Hemisphere'\n",
    "plot_xlabel = 'Latitude'\n",
    "plot_ylabel = 'Wind Speed (m/s)'\n",
    "    ## Function to create plot\n",
    "create_plot(x_value, y_value, j)\n",
    "    \n",
    "plt.show()"
   ]
  },
  {
   "cell_type": "markdown",
   "metadata": {},
   "source": [
    "**Discussion about the linear relationship:** YOUR RESPONSE HERE"
   ]
  },
  {
   "cell_type": "code",
   "execution_count": null,
   "metadata": {},
   "outputs": [],
   "source": []
  }
 ],
 "metadata": {
  "anaconda-cloud": {},
  "kernel_info": {
   "name": "python3"
  },
  "kernelspec": {
   "display_name": "PythonData",
   "language": "python",
   "name": "pythondata"
  },
  "language_info": {
   "codemirror_mode": {
    "name": "ipython",
    "version": 3
   },
   "file_extension": ".py",
   "mimetype": "text/x-python",
   "name": "python",
   "nbconvert_exporter": "python",
   "pygments_lexer": "ipython3",
   "version": "3.7.7"
  },
  "latex_envs": {
   "LaTeX_envs_menu_present": true,
   "autoclose": false,
   "autocomplete": true,
   "bibliofile": "biblio.bib",
   "cite_by": "apalike",
   "current_citInitial": 1,
   "eqLabelWithNumbers": true,
   "eqNumInitial": 1,
   "hotkeys": {
    "equation": "Ctrl-E",
    "itemize": "Ctrl-I"
   },
   "labels_anchors": false,
   "latex_user_defs": false,
   "report_style_numbering": false,
   "user_envs_cfg": false
  },
  "nteract": {
   "version": "0.12.3"
  }
 },
 "nbformat": 4,
 "nbformat_minor": 4
}
