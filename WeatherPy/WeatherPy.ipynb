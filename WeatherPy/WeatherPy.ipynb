{
 "cells": [
  {
   "cell_type": "markdown",
   "metadata": {},
   "source": [
    "# WeatherPy\n",
    "\n",
    "---\n",
    "\n",
    "## Starter Code to Generate Random Geographic Coordinates and a List of Cities"
   ]
  },
  {
   "cell_type": "code",
   "execution_count": null,
   "metadata": {
    "scrolled": true
   },
   "outputs": [],
   "source": [
    "# Dependencies and Setup\n",
    "import matplotlib.pyplot as plt\n",
    "import pandas as pd\n",
    "import numpy as np\n",
    "import requests\n",
    "import time\n",
    "import scipy.stats as st\n",
    "from scipy.stats import linregress\n",
    "\n",
    "# Impor the OpenWeatherMap API key\n",
    "from api_keys import weather_api_key\n",
    "\n",
    "# Import citipy to determine the cities based on latitude and longitude\n",
    "from citipy import citipy"
   ]
  },
  {
   "cell_type": "markdown",
   "metadata": {},
   "source": [
    "### Generate the Cities List by Using the `citipy` Library"
   ]
  },
  {
   "cell_type": "code",
   "execution_count": null,
   "metadata": {},
   "outputs": [],
   "source": [
    "# Empty list for holding the latitude and longitude combinations\n",
    "lat_lngs = []\n",
    "\n",
    "# Empty list for holding the cities names\n",
    "cities = []\n",
    "\n",
    "# Range of latitudes and longitudes\n",
    "lat_range = (-90, 90)\n",
    "lng_range = (-180, 180)\n",
    "\n",
    "# Create a set of random lat and lng combinations\n",
    "#lats = np.random.uniform(lat_range[0], lat_range[1], size=1500)\n",
    "#lngs = np.random.uniform(lng_range[0], lng_range[1], size=1500)\n",
    "lats = np.random.uniform(lat_range[0], lat_range[1], size=50)\n",
    "lngs = np.random.uniform(lng_range[0], lng_range[1], size=50)\n",
    "lat_lngs = zip(lats, lngs)\n",
    "\n",
    "# Identify nearest city for each lat, lng combination\n",
    "for lat_lng in lat_lngs:\n",
    "    city = citipy.nearest_city(lat_lng[0], lat_lng[1]).city_name\n",
    "    \n",
    "    # If the city is unique, then add it to a our cities list\n",
    "    if city not in cities:\n",
    "        cities.append(city)\n",
    "\n",
    "# Print the city count to confirm sufficient count\n",
    "print(f\"Number of cities in the list: {len(cities)}\")"
   ]
  },
  {
   "cell_type": "markdown",
   "metadata": {},
   "source": [
    "---"
   ]
  },
  {
   "cell_type": "markdown",
   "metadata": {},
   "source": [
    "## Requirement 1: Create Plots to Showcase the Relationship Between Weather Variables and Latitude\n",
    "\n",
    "### Use the OpenWeatherMap API to retrieve weather data from the cities list generated in the started code"
   ]
  },
  {
   "cell_type": "code",
   "execution_count": null,
   "metadata": {},
   "outputs": [],
   "source": [
    "# Set the API base URL\n",
    "url = \"http://api.openweathermap.org/data/2.5/weather?\"\n",
    "\n",
    "# Define an empty list to fetch the weather data for each city\n",
    "city_data = []\n",
    "# Define variables\n",
    "units = 'imperial'\n",
    "\n",
    "# Print to logger\n",
    "print(\"Beginning Data Retrieval     \")\n",
    "print(\"-----------------------------\")\n",
    "\n",
    "# Create counters\n",
    "record_count = 1\n",
    "set_count = 1\n",
    "\n",
    "# Loop through all the cities in our list to fetch weather data\n",
    "for i, city in enumerate(cities):\n",
    "        \n",
    "    # Group cities in sets of 50 for logging purposes\n",
    "    if (i % 50 == 0 and i >= 50):\n",
    "        set_count += 1\n",
    "        record_count = 0\n",
    "\n",
    "    # Create endpoint URL with each city\n",
    "    city_url = url + \"&q=\" + city + \"&appid=\" +  weather_api_key + \"&units=\" + units\n",
    "    \n",
    "    # Log the url, record, and set numbers\n",
    "    print(\"Processing Record %s of Set %s | %s\" % (record_count, set_count, city))\n",
    "\n",
    "    # Add 1 to the record count\n",
    "    record_count += 1\n",
    "\n",
    "    # Run an API request for each of the cities\n",
    "    try:\n",
    "        # Parse the JSON and retrieve data\n",
    "        city_weather = requests.get(city_url).json()\n",
    "        \n",
    "\n",
    "        # Parse out latitude, longitude, max temp, humidity, cloudiness, wind speed, country, and date\n",
    "        city_lat = city_weather['coord']['lat']\n",
    "        city_lng = city_weather['coord']['lon']\n",
    "        city_max_temp = city_weather['main']['temp_max']\n",
    "        city_humidity = city_weather['main']['humidity']\n",
    "        city_clouds = city_weather['clouds']['all']\n",
    "        city_wind = city_weather['wind']['speed']\n",
    "        city_country = city_weather['sys']['country']\n",
    "        city_date = city_weather['dt']\n",
    "        \n",
    "        # Call function to recalculate maximum temperature to farenheight\n",
    "       # convert_temp(city_max_temp)\n",
    "       # city_max_temp = int(max_tempF)\n",
    "\n",
    "        # Append the City information into city_data list\n",
    "        city_data.append({\"City\": city, \n",
    "                          \"Lat\": city_lat, \n",
    "                          \"Lng\": city_lng, \n",
    "                          \"Max Temp\": city_max_temp,\n",
    "                          \"Humidity\": city_humidity,\n",
    "                          \"Cloudiness\": city_clouds,\n",
    "                          \"Wind Speed\": city_wind,\n",
    "                          \"Country\": city_country,\n",
    "                          \"Date\": city_date})\n",
    "\n",
    "    # If an error is experienced, skip the city\n",
    "    except:\n",
    "        print(\"City not found. Skipping...\")\n",
    "        pass\n",
    "              \n",
    "# Indicate that Data Loading is complete \n",
    "print(\"-----------------------------\")\n",
    "print(\"Data Retrieval Complete      \")\n",
    "print(\"-----------------------------\")"
   ]
  },
  {
   "cell_type": "code",
   "execution_count": null,
   "metadata": {},
   "outputs": [],
   "source": [
    "# confirm the request results\n",
    "city_weather.items()"
   ]
  },
  {
   "cell_type": "code",
   "execution_count": null,
   "metadata": {},
   "outputs": [],
   "source": [
    "# Convert the cities weather data into a Pandas DataFrame\n",
    "city_data_df = pd.DataFrame(city_data)\n",
    "# Show Record Count\n",
    "city_data_df.count()"
   ]
  },
  {
   "cell_type": "code",
   "execution_count": null,
   "metadata": {},
   "outputs": [],
   "source": [
    "# Display sample data\n",
    "city_data_df.head()"
   ]
  },
  {
   "cell_type": "code",
   "execution_count": null,
   "metadata": {},
   "outputs": [],
   "source": [
    "# Export the City_Data into a csv\n",
    "city_data_df.to_csv(\"output_data/cities.csv\", index_label=\"City_ID\")"
   ]
  },
  {
   "cell_type": "code",
   "execution_count": null,
   "metadata": {},
   "outputs": [],
   "source": [
    "# Read saved data\n",
    "city_data_df = pd.read_csv(\"output_data/cities.csv\", index_col=\"City_ID\")\n",
    "\n",
    "# Display sample data\n",
    "#city_data_df.info()\n",
    "city_data_df.head()"
   ]
  },
  {
   "cell_type": "markdown",
   "metadata": {},
   "source": [
    "### Create the Scatter Plots Requested\n",
    "\n",
    "#### Latitude Vs. Temperature"
   ]
  },
  {
   "cell_type": "code",
   "execution_count": null,
   "metadata": {
    "tags": []
   },
   "outputs": [],
   "source": [
    "# Build scatter plot for latitude vs. temperature\n",
    "fig1 = city_data_df.plot(\n",
    "                        kind='scatter',\n",
    "                        x='Lat', y='Max Temp',\n",
    "                        legend=False, marker='o',\n",
    "                        figsize=(8,6), s= 150,\n",
    "                        edgecolor='Black',\n",
    "                        c='Teal'\n",
    ")\n",
    "\n",
    "# Incorporate the other graph properties\n",
    "fig1.set_title('CityPY Cities Latitude vs. Maximum Temperature', fontsize=18, weight='bold')\n",
    "fig1.set_xlabel('Latitude', fontsize=14, weight='bold')\n",
    "fig1.set_ylabel('Maximum Temperature (°F)', fontsize=14, weight='bold')\n",
    "fig1.grid(color='gray', linestyle='-', linewidth=0.2)\n",
    "\n",
    "# Save the figure\n",
    "plt.savefig(\"output_data/Fig1.png\")\n",
    "\n",
    "# Show plot\n",
    "plt.show()"
   ]
  },
  {
   "cell_type": "markdown",
   "metadata": {},
   "source": [
    "#### Latitude Vs. Humidity"
   ]
  },
  {
   "cell_type": "code",
   "execution_count": null,
   "metadata": {},
   "outputs": [],
   "source": [
    "# Build the scatter plots for latitude vs. humidity\n",
    "fig2 = city_data_df.plot(\n",
    "                        kind='scatter',\n",
    "                        x='Lat', y='Humidity',\n",
    "                        legend=False, marker='o',\n",
    "                        figsize=(8,6), s= 150,\n",
    "                        edgecolor='Black',\n",
    "                        c='Teal'\n",
    ")\n",
    "\n",
    "# Incorporate the other graph properties\n",
    "fig2.set_title('CityPY Cities Latitude vs. Humidity', fontsize=18, weight='bold')\n",
    "fig2.set_xlabel('Latitude', fontsize=14, weight='bold')\n",
    "fig2.set_ylabel('Humidity (%)', fontsize=14, weight='bold')\n",
    "fig2.grid(color='gray', linestyle='-', linewidth=0.2)\n",
    "\n",
    "# Save the figure\n",
    "plt.savefig(\"output_data/Fig2.png\")\n",
    "\n",
    "# Show plot\n",
    "plt.show()"
   ]
  },
  {
   "cell_type": "markdown",
   "metadata": {},
   "source": [
    "#### Latitude Vs. Cloudiness"
   ]
  },
  {
   "cell_type": "code",
   "execution_count": null,
   "metadata": {},
   "outputs": [],
   "source": [
    "# Build the scatter plots for latitude vs. cloudiness\n",
    "fig3 = city_data_df.plot(\n",
    "                        kind='scatter',\n",
    "                        x='Lat', y='Cloudiness',\n",
    "                        legend=False, marker='o',\n",
    "                        figsize=(8,6), s= 150,\n",
    "                        edgecolor='Black',\n",
    "                        c='Teal'\n",
    ")\n",
    "# Incorporate the other graph properties\n",
    "fig3.set_title('CityPY Cities Latitude vs. Cloudiness', fontsize=18, weight='bold')\n",
    "fig3.set_xlabel('Latitude', fontsize=14, weight='bold')\n",
    "fig3.set_ylabel('Cloudiness (%)', fontsize=14, weight='bold')\n",
    "fig3.grid(color='gray', linestyle='-', linewidth=0.2)\n",
    "\n",
    "# Save the figure\n",
    "plt.savefig(\"output_data/Fig3.png\")\n",
    "\n",
    "# Show plot\n",
    "plt.show()"
   ]
  },
  {
   "cell_type": "markdown",
   "metadata": {},
   "source": [
    "#### Latitude vs. Wind Speed Plot"
   ]
  },
  {
   "cell_type": "code",
   "execution_count": null,
   "metadata": {},
   "outputs": [],
   "source": [
    "# Build the scatter plots for latitude vs. wind speed\n",
    "fig4 = city_data_df.plot(\n",
    "                        kind='scatter',\n",
    "                        x='Lat', y='Wind Speed',\n",
    "                        legend=False, marker='o',\n",
    "                        figsize=(8,6), s= 150,\n",
    "                        edgecolor='Black',\n",
    "                        c='Teal'\n",
    ")\n",
    "\n",
    "# Incorporate the other graph properties\n",
    "fig4.set_title('CityPY Cities Latitude vs. Wind Speed', fontsize=18, weight='bold')\n",
    "fig4.set_xlabel('Latitude', fontsize=14, weight='bold')\n",
    "fig4.set_ylabel('Wind Speed (mph)', fontsize=14, weight='bold')\n",
    "fig4.grid(color='gray', linestyle='-', linewidth=0.2)\n",
    "\n",
    "# Save the figure\n",
    "plt.savefig(\"output_data/Fig4.png\")\n",
    "\n",
    "# Show plot\n",
    "plt.show()"
   ]
  },
  {
   "cell_type": "markdown",
   "metadata": {},
   "source": [
    "---\n",
    "\n",
    "## Requirement 2: Compute Linear Regression for Each Relationship\n"
   ]
  },
  {
   "cell_type": "code",
   "execution_count": null,
   "metadata": {},
   "outputs": [],
   "source": [
    "# Define a function to create Linear Regression plots for Latitude vs. each of Maximum Temperature, Humidity, Cloudiness, and Wind Speed\n",
    "fig5, ax5 = plt.subplots(figsize=(8,6))\n",
    "\n",
    "x_values = city_data_df['Lat']\n",
    "y_values = city_data_df['Max Temp']\n",
    "print(f\"The correlation coefficient between Latitude and Maximum Temperature is {round(st.pearsonr(x_values, y_values)[0],2)}\")\n",
    "\n",
    "# for latitude (x-values) and Maximum Temperature (y_values) for the CityPY Cities selected\n",
    "(slope, intercept, rvalue, pvalue, stderr) = linregress(x_values, y_values)\n",
    "regress_values =x_values * slope + intercept\n",
    "\n",
    "slope_intercept = 'y = ' + str(round(slope,2)) + 'x +' + str(round(intercept,2))  ## y = mx + b\n",
    "\n",
    "# plot details, add annotation, add chart features\n",
    "plt.scatter(x_values, y_values, s=150, marker='o', edgecolors='Black', c='Teal')\n",
    "plt.plot(x_values, regress_values, 'r-') ##'r-' is a red line\n",
    "\n",
    "plt.annotate(slope_intercept, xy=(-25,30), xytext=(-25,30), fontsize=20,color=\"red\")\n",
    "\n",
    "# set title, labels, and present the data\n",
    "plt.title('CityPY Cities Latitude vs. Maximum Temperature', fontsize=18, weight='bold')           \n",
    "plt.xlabel('Latitude', fontsize=14, weight='bold')\n",
    "plt.ylabel('Maximum Temperature (°F)', fontsize=14, weight='bold')\n",
    "\n",
    "# print r value\n",
    "print(f'The r-value is: {rvalue**2}')\n",
    "\n",
    "# Save the figure\n",
    "plt.savefig(\"output_data/Fig5.png\")\n",
    "\n",
    "# present the data\n",
    "plt.grid(color='gray', linestyle='-', linewidth=0.2)\n",
    "plt.show()"
   ]
  },
  {
   "cell_type": "code",
   "execution_count": null,
   "metadata": {},
   "outputs": [],
   "source": [
    "# Define a function to create Linear Regression plots for Latitude vs. each of Maximum Temperature, Humidity, Cloudiness, and Wind Speed\n",
    "fig6, ax6 = plt.subplots(figsize=(8,6))\n",
    "\n",
    "x_values = city_data_df['Lat']\n",
    "y_values = city_data_df['Humidity']\n",
    "print(f\"The correlation coefficient between latitude and Humidity is {round(st.pearsonr(x_values, y_values)[0],2)}\")\n",
    "\n",
    "# for latitude (x-values) and Humidity (y_values) for the CityPY Cities selected\n",
    "(slope, intercept, rvalue, pvalue, stderr) = linregress(x_values, y_values)\n",
    "regress_values =x_values * slope + intercept\n",
    "\n",
    "slope_intercept = 'y = ' + str(round(slope,2)) + 'x +' + str(round(intercept,2))  ## y = mx + b\n",
    "\n",
    "# plot details, add annotation, add chart features\n",
    "plt.scatter(x_values, y_values, s=150, marker='o', edgecolors='Black', c='Teal')\n",
    "plt.plot(x_values, regress_values, 'r-') ##'r-' is a red line\n",
    "\n",
    "plt.annotate(slope_intercept, xy=(-10,50), xytext=(-10,50), fontsize=20,color=\"red\")\n",
    "\n",
    "# set title, labels, and present the data\n",
    "plt.title('CityPY Cities Latitude vs. Humidity', fontsize=18, weight='bold')           \n",
    "plt.xlabel('Latitude', fontsize=14, weight='bold')\n",
    "plt.ylabel('Humidity (%)', fontsize=14, weight='bold')\n",
    "\n",
    "# print r value\n",
    "print(f'The r-value is: {rvalue**2}')\n",
    "\n",
    "# Save the figure\n",
    "plt.savefig(\"output_data/Fig6.png\")\n",
    "\n",
    "# present the data\n",
    "plt.grid(color='gray', linestyle='-', linewidth=0.2)\n",
    "plt.show()"
   ]
  },
  {
   "cell_type": "code",
   "execution_count": null,
   "metadata": {},
   "outputs": [],
   "source": [
    "# Define a function to create Linear Regression plots for Latitude vs. each of Maximum Temperature, Humidity, Cloudiness, and Wind Speed\n",
    "fig7, ax7 = plt.subplots(figsize=(8,6))\n",
    "\n",
    "x_values = city_data_df['Lat']\n",
    "y_values = city_data_df['Cloudiness']\n",
    "print(f\"The correlation coefficient between Latitude and Cloudiness is {round(st.pearsonr(x_values, y_values)[0],2)}\")\n",
    "\n",
    "# for latitude (x-values) and Cloudiness (y_values) for the CityPY Cities selected\n",
    "(slope, intercept, rvalue, pvalue, stderr) = linregress(x_values, y_values)\n",
    "regress_values =x_values * slope + intercept\n",
    "\n",
    "slope_intercept = 'y = ' + str(round(slope,2)) + 'x +' + str(round(intercept,2))  ## y = mx + b\n",
    "\n",
    "# plot details, add annotation, add chart features\n",
    "plt.scatter(x_values, y_values, s=150, marker='o', edgecolors='Black', c='Teal')\n",
    "plt.plot(x_values, regress_values, 'r-') ##'r-' is a red line\n",
    "\n",
    "plt.annotate(slope_intercept, xy=(10,45), xytext=(10,45), fontsize=20,color=\"red\")\n",
    "\n",
    "# set title, labels, and present the data\n",
    "plt.title('CityPY Cities Latitude vs. Cloudiness', fontsize=18, weight='bold')           \n",
    "plt.xlabel('Latitude', fontsize=14, weight='bold')\n",
    "plt.ylabel('Cloudiness (%)', fontsize=14, weight='bold')\n",
    "\n",
    "# print r value\n",
    "print(f'The r-value is: {rvalue**2}')\n",
    "\n",
    "# Save the figure\n",
    "plt.savefig(\"output_data/Fig7.png\")\n",
    "\n",
    "# present the data\n",
    "plt.grid(color='gray', linestyle='-', linewidth=0.2)\n",
    "plt.show()"
   ]
  },
  {
   "cell_type": "code",
   "execution_count": null,
   "metadata": {},
   "outputs": [],
   "source": [
    "# Define a function to create Linear Regression plots for Latitude vs. each of Maximum Temperature, Humidity, Cloudiness, and Wind Speed\n",
    "fig8, ax8 = plt.subplots(figsize=(8,6))\n",
    "\n",
    "x_values = city_data_df['Lat']\n",
    "y_values = city_data_df['Wind Speed']\n",
    "print(f\"The correlation coefficient between Latitude and Wind Speed is {round(st.pearsonr(x_values, y_values)[0],2)}\")\n",
    "\n",
    "# for latitude (x-values) and Wind Speed (y_values) for the CityPY Cities selected\n",
    "(slope, intercept, rvalue, pvalue, stderr) = linregress(x_values, y_values)\n",
    "regress_values =x_values * slope + intercept\n",
    "\n",
    "slope_intercept = 'y = ' + str(round(slope,2)) + 'x +' + str(round(intercept,2))  ## y = mx + b\n",
    "\n",
    "# plot details, add annotation, add chart features\n",
    "plt.scatter(x_values, y_values, s=150, marker='o', edgecolors='Black', c='Teal')\n",
    "plt.plot(x_values, regress_values, 'r-') ##'r-' is a red line\n",
    "\n",
    "plt.annotate(slope_intercept, xy=(10,45), xytext=(10,45), fontsize=20,color=\"red\")\n",
    "\n",
    "# set title, labels, and present the data\n",
    "plt.title('CityPY Cities Latitude vs. Wind Speed', fontsize=18, weight='bold')           \n",
    "plt.xlabel('Latitude', fontsize=14, weight='bold')\n",
    "plt.ylabel('Wind Speed (mph)', fontsize=14, weight='bold')\n",
    "\n",
    "# print r value\n",
    "print(f'The r-value is: {rvalue**2}')\n",
    "\n",
    "# Save the figure\n",
    "plt.savefig(\"output_data/Fig8.png\")\n",
    "\n",
    "# present the data\n",
    "plt.grid(color='gray', linestyle='-', linewidth=0.2)\n",
    "plt.show()"
   ]
  },
  {
   "cell_type": "code",
   "execution_count": null,
   "metadata": {},
   "outputs": [],
   "source": [
    "# Create a DataFrame with the Northern Hemisphere data (Latitude >= 0)\n",
    " (°F)'f = city_data_df.loc[city_data_df['Lat'] >= 0]\n",
    "\n",
    "# Display sample data\n",
    "northern_hemi_df.head()"
   ]
  },
  {
   "cell_type": "code",
   "execution_count": null,
   "metadata": {},
   "outputs": [],
   "source": []
  },
  {
   "cell_type": "code",
   "execution_count": null,
   "metadata": {},
   "outputs": [],
   "source": [
    "# Create a DataFrame with the Southern Hemisphere data (Latitude < 0)\n",
    "southern_hemi_df = city_data_df.loc[city_data_df['Lat'] < 0]\n",
    "\n",
    "# Display sample data\n",
    "southern_hemi_df.head()"
   ]
  },
  {
   "cell_type": "markdown",
   "metadata": {},
   "source": [
    "###  Temperature vs. Latitude Linear Regression Plot"
   ]
  },
  {
   "cell_type": "code",
   "execution_count": null,
   "metadata": {},
   "outputs": [],
   "source": [
    "# y_tests = ['Max Temp', 'Humidity', 'Cloudiness', 'Wind Speed']\n",
    "# m = y_tests[1]\n",
    "# m\n",
    "\n",
    "# hemi = f'hemispheres[0]_hemi_df'\n",
    "# x_values = hemi['Lat']\n",
    "# x_values\n",
    "hemispheres = ['northern', 'southern']\n",
    "\n",
    "#hemi = f'{hemispheres[0]}_hemi_\n",
    "hemi = hemispheres[1] + '_hemi_df'\n",
    "hemi"
   ]
  },
  {
   "cell_type": "code",
   "execution_count": null,
   "metadata": {},
   "outputs": [],
   "source": [
    "# Define a function to create Linear Regression plots for Latitude vs. each of Maximum Temperature, Humidity, Cloudiness, and Wind Speed\n",
    "# for the Northern Hemisphere\n",
    "hemispheres = ['northern', 'southern']\n",
    "y_tests = ['Max Temp', 'Humidity', 'Cloudiness', 'Wind Speed']\n",
    "y_labels = ['Maximum Temperture  (°F)', 'Humidity (%)', 'Cloudiness (%)', 'Wind Speed (mph)']\n",
    "\n",
    "h=0\n",
    "i = 0  # criteria location in list\n",
    "for sphere in hemispheres:    \n",
    "    i = 0\n",
    "    for test in y_tests:\n",
    "        fig8, ax8 = plt.subplots(figsize=(8,6))\n",
    "        \n",
    "        # assign hemisphere for processing\n",
    "        #hemi = f'{hemispheres[h]}_hemi_df'\n",
    "        x_values = northern_hemi_df['Lat']\n",
    "        y_values = northern_hemi_df[y_tests[i]]\n",
    "\n",
    "\n",
    "        # for latitude (x-values) and Wind Speed (y_values) for the CityPY Cities selected\n",
    "        (slope, intercept, rvalue, pvalue, stderr) = linregress(x_values, y_values)\n",
    "        regress_values =x_values * slope + intercept\n",
    "\n",
    "        slope_intercept = 'y = ' + str(round(slope,2)) + 'x +' + str(round(intercept,2))  ## y = mx + b\n",
    "\n",
    "        #print the r-value and correlation coefficient\n",
    "        print(f'The correlation coefficient between Latitude and {y_tests[i]} is {round(st.pearsonr(x_values, y_values)[0],2)}. The r-value is: {round(rvalue**2,2)}.')\n",
    "        # plot details, add annotation, add chart features\n",
    "        plt.scatter(x_values, y_values, s=150, marker='o', edgecolors='Black', c='Teal')\n",
    "        plt.plot(x_values, regress_values, 'r-') ##'r-' is a red line\n",
    "\n",
    "        plt.annotate(slope_intercept, xy=(10,45), xytext=(10,45), fontsize=20,color=\"red\")\n",
    "\n",
    "        # set title, labels, and present the data\n",
    "        plt.title(f'CityPY Cities Latitude vs. {y_tests[i]}', fontsize=18, weight='bold')           \n",
    "        plt.xlabel('Latitude', fontsize=14, weight='bold')\n",
    "        plt.ylabel(y_labels[i], fontsize=14, weight='bold')\n",
    "\n",
    "    #     # print r value\n",
    "    #     print(f'The r-value is: {rvalue**2}')\n",
    "\n",
    "        # Save the figure\n",
    "        plt.savefig(\"output_data/Fig8.png\")\n",
    "\n",
    "        # present the data\n",
    "        plt.grid(color='gray', linestyle='-', linewidth=0.2)\n",
    "        # loop through all four criteria\n",
    "        i +=1\n",
    "    # loop through both hemispheres\n",
    "    h += 1\n",
    "    # present the data    \n",
    "    plt.show()"
   ]
  },
  {
   "cell_type": "code",
   "execution_count": null,
   "metadata": {},
   "outputs": [],
   "source": []
  },
  {
   "cell_type": "code",
   "execution_count": null,
   "metadata": {},
   "outputs": [],
   "source": []
  },
  {
   "cell_type": "code",
   "execution_count": null,
   "metadata": {},
   "outputs": [],
   "source": [
    "# fig9, axs = plt.subplots(2, 2)\n",
    "# axs[0, 0].plot(x, y)\n",
    "# axs[0, 0].set_title('Axis [0, 0]')\n",
    "# axs[0, 1].plot(x, y, 'tab:orange')\n",
    "# axs[0, 1].set_title('Axis [0, 1]')\n",
    "# axs[1, 0].plot(x, -y, 'tab:green')\n",
    "# axs[1, 0].set_title('Axis [1, 0]')\n",
    "# axs[1, 1].plot(x, -y, 'tab:red')\n",
    "# axs[1, 1].set_title('Axis [1, 1]')\n",
    "\n",
    "# for ax in axs.flat:\n",
    "#     ax.set(xlabel='x-label', ylabel='y-label')\n",
    "\n",
    "# # Hide x labels and tick labels for top plots and y ticks for right plots.\n",
    "# for ax in axs.flat:\n",
    "#     ax.label_outer()\n",
    "#############################################################\n",
    "\n",
    "fig9, axes = plt.subplots(nrows=2, ncols=2, figsize=(18, 16))  # define the figure and subplots\n",
    "axes = axes.ravel()  # array to 1D\n",
    "cols = southern_hemi_df.columns['Max Temp', 'Humidity','Cloudiness', 'Wind Speed']  # create a list of dataframe columns to use\n",
    "colors = ['tab:teal','tab:blue', 'tab:orange', 'tab:green']  # list of colors for each subplot, otherwise all subplots will be one color\n",
    "\n",
    "for col, color, ax in zip(cols, colors, axes):\n",
    "    df[col].plot(kind='scatter', ax=ax, color=color, label=col, title=col)\n",
    "    ax.legend()\n",
    "    \n",
    "fig9.delaxes(axes[3])  # delete the empty subplot\n",
    "fig9.tight_layout()\n",
    "plt.show()"
   ]
  },
  {
   "cell_type": "code",
   "execution_count": null,
   "metadata": {},
   "outputs": [],
   "source": [
    "# Linear regression on Northern Hemisphere\n",
    "\n",
    "fig9, ax9 = plt.subplots(figsize=(8,6))\n",
    "\n",
    "x_values = city_data_df['Lat']\n",
    "y_values = city_data_df['Wind Speed']\n",
    "print(f\"The correlation coefficient between Latitude and Wind Speed is {round(st.pearsonr(x_values, y_values)[0],2)}\")\n",
    "\n",
    "# for latitude (x-values) and Wind Speed (y_values) for the CityPY Cities selected\n",
    "(slope, intercept, rvalue, pvalue, stderr) = linregress(x_values, y_values)\n",
    "regress_values =x_values * slope + intercept\n",
    "\n",
    "slope_intercept = 'y = ' + str(round(slope,2)) + 'x +' + str(round(intercept,2))  ## y = mx + b\n",
    "\n",
    "# plot details, add annotation, add chart features\n",
    "plt.scatter(x_values, y_values, s=150, marker='o', edgecolors='Black', c='Teal')\n",
    "plt.plot(x_values, regress_values, 'r-') ##'r-' is a red line\n",
    "\n",
    "plt.annotate(slope_intercept, xy=(10,45), xytext=(10,45), fontsize=20,color=\"red\")\n",
    "\n",
    "# set title, labels, and present the data\n",
    "plt.title('CityPY Cities Latitude vs. Wind Speed', fontsize=18, weight='bold')           \n",
    "plt.xlabel('Latitude', fontsize=14, weight='bold')\n",
    "plt.ylabel('Wind Speed (mph)', fontsize=14, weight='bold')\n",
    "\n",
    "# print r value\n",
    "print(f'The r-value is: {rvalue**2}')\n",
    "\n",
    "# present the data\n",
    "plt.grid(True)\n",
    "plt.show()\n",
    "j = 10    # number figure to avoid plotting confusion\n",
    "x_value = northern_hemi_df.loc[northern_hemi_df['Lat']]\n",
    "y_value = northern_hemi_df.loc[northern_hemi_df['Max Temp']]\n",
    "plot_title = 'Temperature vs. Latitude Linear Regression Plot'\n",
    "plot_title_sup = 'Northern Hemisphere'\n",
    "plot_xlabel = 'Latitude'\n",
    "plot_ylabel = 'Maximum Temperature (°F)'\n",
    "    ## Function to create plot\n",
    "\n",
    "create_plot(x_value, y_value, j)\n",
    "    \n",
    "plt.show()"
   ]
  },
  {
   "cell_type": "code",
   "execution_count": null,
   "metadata": {
    "scrolled": true
   },
   "outputs": [],
   "source": [
    "# Linear regression on Southern Hemisphere\n",
    "# YOUR CODE HERE\n",
    "j += 1\n",
    "x_value = southern_hemi_df['Lat']\n",
    "y_value = southern_hemi_df['Max Temp']\n",
    "plot_title = 'Temperature vs. Latitude Linear Regression Plot'\n",
    "plot_title_sup = 'Southern Hemisphere'\n",
    "plot_xlabel = 'Latitude'\n",
    "plot_ylabel = 'Maximum Temperature (°F)'\n",
    "    ## Function to create plot\n",
    "create_plot(x_value, y_value, j)\n",
    "    \n",
    "plt.show()\n",
    "#x_value, y_value, j"
   ]
  },
  {
   "cell_type": "markdown",
   "metadata": {},
   "source": [
    "**Discussion about the linear relationship:** YOUR RESPONSE HERE"
   ]
  },
  {
   "cell_type": "markdown",
   "metadata": {},
   "source": [
    "### Humidity vs. Latitude Linear Regression Plot"
   ]
  },
  {
   "cell_type": "code",
   "execution_count": null,
   "metadata": {},
   "outputs": [],
   "source": [
    "# Northern Hemisphere\n",
    "# YOUR CODE HERE\n",
    "j += 1    # number figure to avoid plotting confusion\n",
    "x_value = northern_hemi_df['Lat']\n",
    "y_value = northern_hemi_df['Humidity']\n",
    "plot_title = 'Humidity vs. Latitude Linear Regression Plot'\n",
    "plot_title_sup = 'Northern Hemisphere'\n",
    "plot_xlabel = 'Latitude'\n",
    "plot_ylabel = 'Humidity'\n",
    "    ## Function to create plot\n",
    "create_plot(x_value, y_value, j)\n",
    "    \n",
    "plt.show()"
   ]
  },
  {
   "cell_type": "code",
   "execution_count": null,
   "metadata": {},
   "outputs": [],
   "source": [
    "# Southern Hemisphere\n",
    "# YOUR CODE HERE\n",
    "j += 1\n",
    "x_value = southern_hemi_df['Lat']\n",
    "y_value = southern_hemi_df['Humidity']\n",
    "plot_title = 'Humidity vs. Latitude Linear Regression Plot'\n",
    "plot_title_sup = 'Southern Hemisphere'\n",
    "plot_xlabel = 'Latitude'\n",
    "plot_ylabel = 'Humidity'\n",
    "    ## Function to create plot\n",
    "create_plot(x_value, y_value, j)\n",
    "    \n",
    "plt.show()"
   ]
  },
  {
   "cell_type": "markdown",
   "metadata": {},
   "source": [
    "**Discussion about the linear relationship:** YOUR RESPONSE HERE"
   ]
  },
  {
   "cell_type": "markdown",
   "metadata": {},
   "source": [
    "### Cloudiness vs. Latitude Linear Regression Plot"
   ]
  },
  {
   "cell_type": "code",
   "execution_count": null,
   "metadata": {},
   "outputs": [],
   "source": [
    "# Northern Hemisphere\n",
    "# YOUR CODE HERE\n",
    "j += 1    # number figure to avoid plotting confusion\n",
    "x_value = northern_hemi_df['Lat']\n",
    "y_value = northern_hemi_df['Cloudiness']\n",
    "plot_title = 'Cloudiness vs. Latitude Linear Regression Plot'\n",
    "plot_title_sup = 'Northern Hemisphere'\n",
    "plot_xlabel = 'Latitude'\n",
    "plot_ylabel = 'Cloudiness (oktas)'\n",
    "    ## Function to create plot\n",
    "create_plot(x_value, y_value, j)\n",
    "    \n",
    "plt.show()"
   ]
  },
  {
   "cell_type": "code",
   "execution_count": null,
   "metadata": {},
   "outputs": [],
   "source": [
    "# Southern Hemisphere\n",
    "# YOUR CODE HERE\n",
    "j += 1\n",
    "x_value = southern_hemi_df['Lat']\n",
    "y_value = southern_hemi_df['Cloudiness']\n",
    "plot_title = 'Cloudiness vs. Latitude Linear Regression Plot'\n",
    "plot_title_sup = 'Southern Hemisphere'\n",
    "plot_xlabel = 'Latitude'\n",
    "plot_ylabel = 'Cloudiness (oktas)'\n",
    "    ## Function to create plot\n",
    "create_plot(x_value, y_value, j)\n",
    "    \n",
    "plt.show()"
   ]
  },
  {
   "cell_type": "markdown",
   "metadata": {},
   "source": [
    "**Discussion about the linear relationship:** YOUR RESPONSE HERE"
   ]
  },
  {
   "cell_type": "markdown",
   "metadata": {},
   "source": [
    "### Wind Speed vs. Latitude Linear Regression Plot"
   ]
  },
  {
   "cell_type": "code",
   "execution_count": null,
   "metadata": {},
   "outputs": [],
   "source": [
    "# Northern Hemisphere\n",
    "# YOUR CODE HERE\n",
    "j += 1    # number figure to avoid plotting confusion\n",
    "x_value = northern_hemi_df['Lat']\n",
    "y_value = northern_hemi_df['Wind Speed']\n",
    "plot_title = 'Wind Speed vs. Latitude Linear Regression Plot'\n",
    "plot_title_sup = 'Northern Hemisphere'\n",
    "plot_xlabel = 'Latitude'\n",
    "plot_ylabel = 'Wind Speed (m/s)'\n",
    "    ## Function to create plot\n",
    "create_plot(x_value, y_value, j)\n",
    "    \n",
    "plt.show()"
   ]
  },
  {
   "cell_type": "code",
   "execution_count": null,
   "metadata": {},
   "outputs": [],
   "source": [
    "# Southern Hemisphere\n",
    "# YOUR CODE HERE\n",
    "j += 1\n",
    "x_value = southern_hemi_df['Lat']\n",
    "y_value = southern_hemi_df['Wind Speed']\n",
    "plot_title = 'Cloudiness vs. Latitude Linear Regression Plot'\n",
    "plot_title_sup = 'Southern Hemisphere'\n",
    "plot_xlabel = 'Latitude'\n",
    "plot_ylabel = 'Wind Speed (m/s)'\n",
    "    ## Function to create plot\n",
    "create_plot(x_value, y_value, j)\n",
    "    \n",
    "plt.show()"
   ]
  },
  {
   "cell_type": "markdown",
   "metadata": {},
   "source": [
    "**Discussion about the linear relationship:** YOUR RESPONSE HERE"
   ]
  },
  {
   "cell_type": "code",
   "execution_count": null,
   "metadata": {},
   "outputs": [],
   "source": []
  }
 ],
 "metadata": {
  "anaconda-cloud": {},
  "kernel_info": {
   "name": "python3"
  },
  "kernelspec": {
   "display_name": "PythonData",
   "language": "python",
   "name": "pythondata"
  },
  "language_info": {
   "codemirror_mode": {
    "name": "ipython",
    "version": 3
   },
   "file_extension": ".py",
   "mimetype": "text/x-python",
   "name": "python",
   "nbconvert_exporter": "python",
   "pygments_lexer": "ipython3",
   "version": "3.7.7"
  },
  "latex_envs": {
   "LaTeX_envs_menu_present": true,
   "autoclose": false,
   "autocomplete": true,
   "bibliofile": "biblio.bib",
   "cite_by": "apalike",
   "current_citInitial": 1,
   "eqLabelWithNumbers": true,
   "eqNumInitial": 1,
   "hotkeys": {
    "equation": "Ctrl-E",
    "itemize": "Ctrl-I"
   },
   "labels_anchors": false,
   "latex_user_defs": false,
   "report_style_numbering": false,
   "user_envs_cfg": false
  },
  "nteract": {
   "version": "0.12.3"
  }
 },
 "nbformat": 4,
 "nbformat_minor": 4
}
